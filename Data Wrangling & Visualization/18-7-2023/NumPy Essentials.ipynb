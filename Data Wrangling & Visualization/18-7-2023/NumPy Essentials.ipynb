{
 "cells": [
  {
   "cell_type": "code",
   "execution_count": 1,
   "id": "5a1c84c1",
   "metadata": {},
   "outputs": [],
   "source": [
    "## Data Analysis libraries\n",
    "\n",
    "import pandas as pd\n",
    "import numpy as np\n",
    "\n",
    "## Data Visualization libraries\n",
    "\n",
    "import matplotlib.pyplot as plt\n",
    "import seaborn as sns"
   ]
  },
  {
   "cell_type": "markdown",
   "id": "17d8125b",
   "metadata": {},
   "source": [
    "### What is NumPy\n",
    "\n",
    "- It is a scientific library used to numerical operations. (Numerical - Num, Python - Py, i.e. NumPy)\n",
    "- The main data structure of NumPy is arrays.\n",
    "- It is the foundational library used for python programming  specifically for machine learning.\n",
    "- Pandas and SciPy are the advanced libraries which are built on NumPy."
   ]
  },
  {
   "cell_type": "markdown",
   "id": "e135af1d",
   "metadata": {},
   "source": [
    "### Creating a numpy array"
   ]
  },
  {
   "cell_type": "code",
   "execution_count": 2,
   "id": "ba40677f",
   "metadata": {},
   "outputs": [
    {
     "data": {
      "text/plain": [
       "[10, 20, 30, 40, 50]"
      ]
     },
     "execution_count": 2,
     "metadata": {},
     "output_type": "execute_result"
    }
   ],
   "source": [
    "li = [10, 20, 30, 40, 50]\n",
    "li"
   ]
  },
  {
   "cell_type": "code",
   "execution_count": 3,
   "id": "707e3b77",
   "metadata": {},
   "outputs": [
    {
     "data": {
      "text/plain": [
       "array([10, 20, 30, 40, 50])"
      ]
     },
     "execution_count": 3,
     "metadata": {},
     "output_type": "execute_result"
    }
   ],
   "source": [
    "## Create a numpy from the above the list\n",
    "\n",
    "arr = np.array(li)\n",
    "arr"
   ]
  },
  {
   "cell_type": "code",
   "execution_count": 4,
   "id": "a47cd5a4",
   "metadata": {},
   "outputs": [
    {
     "data": {
      "text/plain": [
       "numpy.ndarray"
      ]
     },
     "execution_count": 4,
     "metadata": {},
     "output_type": "execute_result"
    }
   ],
   "source": [
    "## Check whether arr is a numpy array\n",
    "\n",
    "type(arr)"
   ]
  },
  {
   "cell_type": "markdown",
   "id": "af891833",
   "metadata": {},
   "source": [
    "- ndarray means n - dimensional array"
   ]
  },
  {
   "cell_type": "code",
   "execution_count": 5,
   "id": "fd09e645",
   "metadata": {},
   "outputs": [
    {
     "data": {
      "text/plain": [
       "[10, 20, 30, 45.5, 60]"
      ]
     },
     "execution_count": 5,
     "metadata": {},
     "output_type": "execute_result"
    }
   ],
   "source": [
    "l1 = [10, 20, 30, 45.5, 60]\n",
    "l1"
   ]
  },
  {
   "cell_type": "code",
   "execution_count": 6,
   "id": "280da4a8",
   "metadata": {},
   "outputs": [
    {
     "data": {
      "text/plain": [
       "array([10. , 20. , 30. , 45.5, 60. ])"
      ]
     },
     "execution_count": 6,
     "metadata": {},
     "output_type": "execute_result"
    }
   ],
   "source": [
    "arr1 = np.array(l1)\n",
    "arr1"
   ]
  },
  {
   "cell_type": "code",
   "execution_count": 7,
   "id": "cdc0ca45",
   "metadata": {},
   "outputs": [
    {
     "data": {
      "text/plain": [
       "[100, 250, 350.75, 'Anil']"
      ]
     },
     "execution_count": 7,
     "metadata": {},
     "output_type": "execute_result"
    }
   ],
   "source": [
    "l2 = [100, 250, 350.75, 'Anil']\n",
    "l2"
   ]
  },
  {
   "cell_type": "code",
   "execution_count": 8,
   "id": "8b5a4af7",
   "metadata": {},
   "outputs": [
    {
     "data": {
      "text/plain": [
       "array(['100', '250', '350.75', 'Anil'], dtype='<U32')"
      ]
     },
     "execution_count": 8,
     "metadata": {},
     "output_type": "execute_result"
    }
   ],
   "source": [
    "arr2 = np.array(l2)\n",
    "arr2"
   ]
  },
  {
   "cell_type": "markdown",
   "id": "7f40aa79",
   "metadata": {},
   "source": [
    "- Note: Array is a homogeneous data structure. Inside the array data must be of same data type"
   ]
  },
  {
   "cell_type": "markdown",
   "id": "9e6303ed",
   "metadata": {},
   "source": [
    "### Addition and Multiplication operations on lists and numpy arrays"
   ]
  },
  {
   "cell_type": "code",
   "execution_count": 9,
   "id": "6dfe29f0",
   "metadata": {},
   "outputs": [
    {
     "data": {
      "text/plain": [
       "[10, 20, 30, 40, 50]"
      ]
     },
     "execution_count": 9,
     "metadata": {},
     "output_type": "execute_result"
    }
   ],
   "source": [
    "li"
   ]
  },
  {
   "cell_type": "code",
   "execution_count": 10,
   "id": "e6fdeed7",
   "metadata": {},
   "outputs": [
    {
     "data": {
      "text/plain": [
       "[10, 20, 30, 45.5, 60]"
      ]
     },
     "execution_count": 10,
     "metadata": {},
     "output_type": "execute_result"
    }
   ],
   "source": [
    "l1"
   ]
  },
  {
   "cell_type": "code",
   "execution_count": 11,
   "id": "4b9dc494",
   "metadata": {},
   "outputs": [
    {
     "data": {
      "text/plain": [
       "[10, 20, 30, 40, 50, 10, 20, 30, 45.5, 60]"
      ]
     },
     "execution_count": 11,
     "metadata": {},
     "output_type": "execute_result"
    }
   ],
   "source": [
    "li + l1"
   ]
  },
  {
   "cell_type": "markdown",
   "id": "3c7d315e",
   "metadata": {},
   "source": [
    "- plus operation on a list is concatenation"
   ]
  },
  {
   "cell_type": "code",
   "execution_count": 12,
   "id": "d3dadf27",
   "metadata": {},
   "outputs": [
    {
     "data": {
      "text/plain": [
       "array([10, 20, 30, 40, 50])"
      ]
     },
     "execution_count": 12,
     "metadata": {},
     "output_type": "execute_result"
    }
   ],
   "source": [
    "arr"
   ]
  },
  {
   "cell_type": "code",
   "execution_count": 13,
   "id": "a695bc63",
   "metadata": {},
   "outputs": [
    {
     "data": {
      "text/plain": [
       "array([10. , 20. , 30. , 45.5, 60. ])"
      ]
     },
     "execution_count": 13,
     "metadata": {},
     "output_type": "execute_result"
    }
   ],
   "source": [
    "arr1"
   ]
  },
  {
   "cell_type": "code",
   "execution_count": 14,
   "id": "51bcc6f6",
   "metadata": {},
   "outputs": [
    {
     "data": {
      "text/plain": [
       "array([ 20. ,  40. ,  60. ,  85.5, 110. ])"
      ]
     },
     "execution_count": 14,
     "metadata": {},
     "output_type": "execute_result"
    }
   ],
   "source": [
    "arr + arr1"
   ]
  },
  {
   "cell_type": "markdown",
   "id": "88953493",
   "metadata": {},
   "source": [
    "- plus operation will add the data inside the array element wise.\n",
    "\n",
    "### Note : The number of elements must be same in both the arrays else you get a value error as in the below example"
   ]
  },
  {
   "cell_type": "code",
   "execution_count": 15,
   "id": "bbc50b4d",
   "metadata": {},
   "outputs": [
    {
     "ename": "ValueError",
     "evalue": "operands could not be broadcast together with shapes (3,) (4,) ",
     "output_type": "error",
     "traceback": [
      "\u001b[1;31m---------------------------------------------------------------------------\u001b[0m",
      "\u001b[1;31mValueError\u001b[0m                                Traceback (most recent call last)",
      "Cell \u001b[1;32mIn[15], line 4\u001b[0m\n\u001b[0;32m      1\u001b[0m arr3 \u001b[38;5;241m=\u001b[39m np\u001b[38;5;241m.\u001b[39marray([\u001b[38;5;241m100\u001b[39m, \u001b[38;5;241m200\u001b[39m, \u001b[38;5;241m300\u001b[39m])\n\u001b[0;32m      2\u001b[0m arr4 \u001b[38;5;241m=\u001b[39m np\u001b[38;5;241m.\u001b[39marray([\u001b[38;5;241m600\u001b[39m, \u001b[38;5;241m700\u001b[39m, \u001b[38;5;241m800\u001b[39m, \u001b[38;5;241m900\u001b[39m])\n\u001b[1;32m----> 4\u001b[0m \u001b[43marr3\u001b[49m\u001b[43m \u001b[49m\u001b[38;5;241;43m+\u001b[39;49m\u001b[43m \u001b[49m\u001b[43marr4\u001b[49m\n",
      "\u001b[1;31mValueError\u001b[0m: operands could not be broadcast together with shapes (3,) (4,) "
     ]
    }
   ],
   "source": [
    "arr3 = np.array([100, 200, 300])\n",
    "arr4 = np.array([600, 700, 800, 900])\n",
    "\n",
    "arr3 + arr4"
   ]
  },
  {
   "cell_type": "markdown",
   "id": "0f6ca240",
   "metadata": {},
   "source": [
    "### Multiplication operation on lists and arrays"
   ]
  },
  {
   "cell_type": "code",
   "execution_count": 16,
   "id": "83a6c543",
   "metadata": {},
   "outputs": [
    {
     "data": {
      "text/plain": [
       "[10, 20, 30, 40, 50]"
      ]
     },
     "execution_count": 16,
     "metadata": {},
     "output_type": "execute_result"
    }
   ],
   "source": [
    "li"
   ]
  },
  {
   "cell_type": "code",
   "execution_count": 17,
   "id": "2490e265",
   "metadata": {},
   "outputs": [
    {
     "data": {
      "text/plain": [
       "[10, 20, 30, 40, 50, 10, 20, 30, 40, 50, 10, 20, 30, 40, 50]"
      ]
     },
     "execution_count": 17,
     "metadata": {},
     "output_type": "execute_result"
    }
   ],
   "source": [
    "li * 3"
   ]
  },
  {
   "cell_type": "markdown",
   "id": "36ba8c4c",
   "metadata": {},
   "source": [
    "- multiplication operation on lists is a repetition operation"
   ]
  },
  {
   "cell_type": "code",
   "execution_count": 19,
   "id": "87a7c976",
   "metadata": {},
   "outputs": [
    {
     "data": {
      "text/plain": [
       "array([10, 20, 30, 40, 50])"
      ]
     },
     "execution_count": 19,
     "metadata": {},
     "output_type": "execute_result"
    }
   ],
   "source": [
    "arr"
   ]
  },
  {
   "cell_type": "code",
   "execution_count": 20,
   "id": "fe1e31dc",
   "metadata": {},
   "outputs": [
    {
     "data": {
      "text/plain": [
       "array([ 30,  60,  90, 120, 150])"
      ]
     },
     "execution_count": 20,
     "metadata": {},
     "output_type": "execute_result"
    }
   ],
   "source": [
    "arr * 3"
   ]
  },
  {
   "cell_type": "markdown",
   "id": "08609ff4",
   "metadata": {},
   "source": [
    "- multiplication operation on an array will perform the multiplication"
   ]
  },
  {
   "cell_type": "markdown",
   "id": "a68b70a6",
   "metadata": {},
   "source": [
    "### Division and subtraction operation on lists and arrays\n",
    "\n",
    "- Division and subtraction cannot be performed on lists"
   ]
  },
  {
   "cell_type": "code",
   "execution_count": 21,
   "id": "1f12e05e",
   "metadata": {},
   "outputs": [
    {
     "data": {
      "text/plain": [
       "[10, 20, 30, 40, 50]"
      ]
     },
     "execution_count": 21,
     "metadata": {},
     "output_type": "execute_result"
    }
   ],
   "source": [
    "li"
   ]
  },
  {
   "cell_type": "code",
   "execution_count": 22,
   "id": "5ad1229a",
   "metadata": {},
   "outputs": [
    {
     "data": {
      "text/plain": [
       "[10, 20, 30, 45.5, 60]"
      ]
     },
     "execution_count": 22,
     "metadata": {},
     "output_type": "execute_result"
    }
   ],
   "source": [
    "l1"
   ]
  },
  {
   "cell_type": "code",
   "execution_count": 25,
   "id": "cbf1bb58",
   "metadata": {},
   "outputs": [
    {
     "ename": "TypeError",
     "evalue": "unsupported operand type(s) for -: 'list' and 'list'",
     "output_type": "error",
     "traceback": [
      "\u001b[1;31m---------------------------------------------------------------------------\u001b[0m",
      "\u001b[1;31mTypeError\u001b[0m                                 Traceback (most recent call last)",
      "Cell \u001b[1;32mIn[25], line 3\u001b[0m\n\u001b[0;32m      1\u001b[0m \u001b[38;5;66;03m## li / l1    ## Division not possible on a list\u001b[39;00m\n\u001b[1;32m----> 3\u001b[0m \u001b[43mli\u001b[49m\u001b[43m \u001b[49m\u001b[38;5;241;43m-\u001b[39;49m\u001b[43m \u001b[49m\u001b[43ml1\u001b[49m\n",
      "\u001b[1;31mTypeError\u001b[0m: unsupported operand type(s) for -: 'list' and 'list'"
     ]
    }
   ],
   "source": [
    "## li / l1    ## Division not possible on a list\n",
    "\n",
    "li - l1   ## Substraction not possible on a list"
   ]
  },
  {
   "cell_type": "code",
   "execution_count": 27,
   "id": "3b0612b4",
   "metadata": {},
   "outputs": [
    {
     "data": {
      "text/plain": [
       "array([600, 700, 800, 900])"
      ]
     },
     "execution_count": 27,
     "metadata": {},
     "output_type": "execute_result"
    }
   ],
   "source": [
    "arr4"
   ]
  },
  {
   "cell_type": "code",
   "execution_count": 28,
   "id": "4bcf9ae1",
   "metadata": {},
   "outputs": [
    {
     "data": {
      "text/plain": [
       "array([300., 350., 400., 450.])"
      ]
     },
     "execution_count": 28,
     "metadata": {},
     "output_type": "execute_result"
    }
   ],
   "source": [
    "arr4 / 2"
   ]
  },
  {
   "cell_type": "code",
   "execution_count": 31,
   "id": "7bf229b4",
   "metadata": {},
   "outputs": [
    {
     "data": {
      "text/plain": [
       "array([300, 350, 400, 450], dtype=int32)"
      ]
     },
     "execution_count": 31,
     "metadata": {},
     "output_type": "execute_result"
    }
   ],
   "source": [
    "### To get integer values after division as an output we use //\n",
    "\n",
    "arr4 // 2"
   ]
  },
  {
   "cell_type": "code",
   "execution_count": 32,
   "id": "4a2e865f",
   "metadata": {},
   "outputs": [
    {
     "data": {
      "text/plain": [
       "array([150, 300, 450, 600, 750, 900])"
      ]
     },
     "execution_count": 32,
     "metadata": {},
     "output_type": "execute_result"
    }
   ],
   "source": [
    "arr5 = np.array([150, 300, 450, 600, 750, 900])\n",
    "arr6 = np.array([100, 200, 300, 400, 500, 600])\n",
    "\n",
    "arr5"
   ]
  },
  {
   "cell_type": "code",
   "execution_count": 33,
   "id": "57e293c7",
   "metadata": {},
   "outputs": [
    {
     "data": {
      "text/plain": [
       "array([100, 200, 300, 400, 500, 600])"
      ]
     },
     "execution_count": 33,
     "metadata": {},
     "output_type": "execute_result"
    }
   ],
   "source": [
    "arr6"
   ]
  },
  {
   "cell_type": "code",
   "execution_count": 34,
   "id": "cffab42f",
   "metadata": {},
   "outputs": [
    {
     "data": {
      "text/plain": [
       "array([ 50, 100, 150, 200, 250, 300])"
      ]
     },
     "execution_count": 34,
     "metadata": {},
     "output_type": "execute_result"
    }
   ],
   "source": [
    "arr5 - arr6"
   ]
  },
  {
   "cell_type": "markdown",
   "id": "859764a1",
   "metadata": {},
   "source": [
    "## Array Indexing"
   ]
  },
  {
   "cell_type": "code",
   "execution_count": 35,
   "id": "765e92c4",
   "metadata": {},
   "outputs": [
    {
     "data": {
      "text/plain": [
       "array([ 23, 457,  49,  75, 278, 891])"
      ]
     },
     "execution_count": 35,
     "metadata": {},
     "output_type": "execute_result"
    }
   ],
   "source": [
    "arr = np.array([23, 457, 49, 75, 278, 891])\n",
    "arr"
   ]
  },
  {
   "cell_type": "code",
   "execution_count": 36,
   "id": "89da6c46",
   "metadata": {},
   "outputs": [
    {
     "data": {
      "text/plain": [
       "49"
      ]
     },
     "execution_count": 36,
     "metadata": {},
     "output_type": "execute_result"
    }
   ],
   "source": [
    "arr[2]"
   ]
  },
  {
   "cell_type": "code",
   "execution_count": 37,
   "id": "3f594ad3",
   "metadata": {},
   "outputs": [
    {
     "data": {
      "text/plain": [
       "891"
      ]
     },
     "execution_count": 37,
     "metadata": {},
     "output_type": "execute_result"
    }
   ],
   "source": [
    "arr[5]"
   ]
  },
  {
   "cell_type": "code",
   "execution_count": 40,
   "id": "2d6c8344",
   "metadata": {},
   "outputs": [
    {
     "data": {
      "text/plain": [
       "75"
      ]
     },
     "execution_count": 40,
     "metadata": {},
     "output_type": "execute_result"
    }
   ],
   "source": [
    "arr[-3]"
   ]
  },
  {
   "cell_type": "code",
   "execution_count": 41,
   "id": "4700c927",
   "metadata": {},
   "outputs": [
    {
     "data": {
      "text/plain": [
       "23"
      ]
     },
     "execution_count": 41,
     "metadata": {},
     "output_type": "execute_result"
    }
   ],
   "source": [
    "arr[-6]"
   ]
  },
  {
   "cell_type": "markdown",
   "id": "1ac97008",
   "metadata": {},
   "source": [
    "### Array Slicing"
   ]
  },
  {
   "cell_type": "code",
   "execution_count": 38,
   "id": "c6710044",
   "metadata": {},
   "outputs": [
    {
     "data": {
      "text/plain": [
       "array([ 49,  75, 278])"
      ]
     },
     "execution_count": 38,
     "metadata": {},
     "output_type": "execute_result"
    }
   ],
   "source": [
    "## Display [49, 75, 278] in the output\n",
    "\n",
    "arr[2 : 5]"
   ]
  },
  {
   "cell_type": "code",
   "execution_count": 39,
   "id": "4b284ccf",
   "metadata": {},
   "outputs": [
    {
     "data": {
      "text/plain": [
       "array([ 49,  75, 278, 891])"
      ]
     },
     "execution_count": 39,
     "metadata": {},
     "output_type": "execute_result"
    }
   ],
   "source": [
    "## ## Display [49, 75, 278, 891] in the output\n",
    "\n",
    "arr[2 : 6]"
   ]
  },
  {
   "cell_type": "code",
   "execution_count": 42,
   "id": "7591a96a",
   "metadata": {},
   "outputs": [
    {
     "data": {
      "text/plain": [
       "array([ 23, 457,  49,  75, 278, 891])"
      ]
     },
     "execution_count": 42,
     "metadata": {},
     "output_type": "execute_result"
    }
   ],
   "source": [
    "arr"
   ]
  },
  {
   "cell_type": "code",
   "execution_count": 43,
   "id": "7f5abe7e",
   "metadata": {},
   "outputs": [
    {
     "data": {
      "text/plain": [
       "array([49])"
      ]
     },
     "execution_count": 43,
     "metadata": {},
     "output_type": "execute_result"
    }
   ],
   "source": [
    "arr[2 : 4 : 2]"
   ]
  },
  {
   "cell_type": "code",
   "execution_count": 44,
   "id": "3481066b",
   "metadata": {},
   "outputs": [
    {
     "data": {
      "text/plain": [
       "array([457, 278])"
      ]
     },
     "execution_count": 44,
     "metadata": {},
     "output_type": "execute_result"
    }
   ],
   "source": [
    "arr[1 : 6 : 3]"
   ]
  },
  {
   "cell_type": "markdown",
   "id": "0bc4adf3",
   "metadata": {},
   "source": [
    "#### Array Indexing syntax\n",
    "- array_name[start_index : end_index, step_index]\n",
    "\n",
    "Note: start_index will be considered, end_index will not considered, step_index is used to add to the start_index"
   ]
  },
  {
   "cell_type": "markdown",
   "id": "c019a24f",
   "metadata": {},
   "source": [
    "## Special arrays creation functions"
   ]
  },
  {
   "cell_type": "code",
   "execution_count": 46,
   "id": "54957f42",
   "metadata": {},
   "outputs": [
    {
     "data": {
      "text/plain": [
       "array([0., 0., 0.])"
      ]
     },
     "execution_count": 46,
     "metadata": {},
     "output_type": "execute_result"
    }
   ],
   "source": [
    "zeros = np.zeros(3)\n",
    "zeros"
   ]
  },
  {
   "cell_type": "code",
   "execution_count": 48,
   "id": "0001aabf",
   "metadata": {},
   "outputs": [
    {
     "data": {
      "text/plain": [
       "array([0., 0., 0., 0., 0., 0., 0., 0., 0., 0.])"
      ]
     },
     "execution_count": 48,
     "metadata": {},
     "output_type": "execute_result"
    }
   ],
   "source": [
    "z1 = np.zeros(10)\n",
    "z1"
   ]
  },
  {
   "cell_type": "code",
   "execution_count": 50,
   "id": "97a8baa9",
   "metadata": {},
   "outputs": [
    {
     "data": {
      "text/plain": [
       "array([[0., 0., 0., 0.],\n",
       "       [0., 0., 0., 0.],\n",
       "       [0., 0., 0., 0.]])"
      ]
     },
     "execution_count": 50,
     "metadata": {},
     "output_type": "execute_result"
    }
   ],
   "source": [
    "z2 = np.zeros((3, 4))\n",
    "z2"
   ]
  },
  {
   "cell_type": "code",
   "execution_count": 51,
   "id": "a032261c",
   "metadata": {},
   "outputs": [
    {
     "data": {
      "text/plain": [
       "array([1., 1., 1., 1., 1., 1., 1.])"
      ]
     },
     "execution_count": 51,
     "metadata": {},
     "output_type": "execute_result"
    }
   ],
   "source": [
    "o1 = np.ones(7)\n",
    "o1"
   ]
  },
  {
   "cell_type": "code",
   "execution_count": 53,
   "id": "1f7bb9e4",
   "metadata": {},
   "outputs": [
    {
     "data": {
      "text/plain": [
       "array([[1., 1., 1.],\n",
       "       [1., 1., 1.],\n",
       "       [1., 1., 1.],\n",
       "       [1., 1., 1.]])"
      ]
     },
     "execution_count": 53,
     "metadata": {},
     "output_type": "execute_result"
    }
   ],
   "source": [
    "o2 = np.ones((4,3))\n",
    "o2"
   ]
  },
  {
   "cell_type": "code",
   "execution_count": 55,
   "id": "b19c71d8",
   "metadata": {},
   "outputs": [
    {
     "data": {
      "text/plain": [
       "array([[[1., 1.],\n",
       "        [1., 1.],\n",
       "        [1., 1.]],\n",
       "\n",
       "       [[1., 1.],\n",
       "        [1., 1.],\n",
       "        [1., 1.]],\n",
       "\n",
       "       [[1., 1.],\n",
       "        [1., 1.],\n",
       "        [1., 1.]]])"
      ]
     },
     "execution_count": 55,
     "metadata": {},
     "output_type": "execute_result"
    }
   ],
   "source": [
    "o3 = np.ones((3, 3, 2))\n",
    "o3"
   ]
  },
  {
   "cell_type": "code",
   "execution_count": 56,
   "id": "581ea44c",
   "metadata": {},
   "outputs": [
    {
     "data": {
      "text/plain": [
       "array([ 0,  1,  2,  3,  4,  5,  6,  7,  8,  9, 10, 11, 12, 13, 14])"
      ]
     },
     "execution_count": 56,
     "metadata": {},
     "output_type": "execute_result"
    }
   ],
   "source": [
    "arr = np.arange(15)\n",
    "arr"
   ]
  },
  {
   "cell_type": "code",
   "execution_count": 57,
   "id": "84bc7d7d",
   "metadata": {
    "scrolled": true
   },
   "outputs": [
    {
     "data": {
      "text/plain": [
       "array([200, 250, 300, 350, 400, 450, 500, 550, 600, 650, 700, 750])"
      ]
     },
     "execution_count": 57,
     "metadata": {},
     "output_type": "execute_result"
    }
   ],
   "source": [
    "np.arange(200, 800, 50)"
   ]
  },
  {
   "cell_type": "code",
   "execution_count": 58,
   "id": "c1fab914",
   "metadata": {},
   "outputs": [
    {
     "data": {
      "text/plain": [
       "array([20, 23, 26, 29, 32, 35, 38, 41, 44, 47])"
      ]
     },
     "execution_count": 58,
     "metadata": {},
     "output_type": "execute_result"
    }
   ],
   "source": [
    "np.arange(20, 50, 3)"
   ]
  },
  {
   "cell_type": "code",
   "execution_count": 60,
   "id": "1efd5a4b",
   "metadata": {},
   "outputs": [
    {
     "data": {
      "text/plain": [
       "array([10. , 27.5, 45. , 62.5, 80. ])"
      ]
     },
     "execution_count": 60,
     "metadata": {},
     "output_type": "execute_result"
    }
   ],
   "source": [
    "arr1 = np.linspace(10, 80, 5)   ## 5 is not the gap instead 5 is the no of elements to be present in the outpu\n",
    "arr1"
   ]
  },
  {
   "cell_type": "markdown",
   "id": "5c927665",
   "metadata": {},
   "source": [
    "- linspace is used to create an array with equal spacing between any two values of the array\n",
    "\n",
    "- 27.5 - 10 = 17.5\n",
    "- 45 - 27.5 = 17.5\n",
    "- 62.5 - 45 = 17.5\n",
    "- 80 - 62.5 = 17.5"
   ]
  },
  {
   "cell_type": "code",
   "execution_count": 61,
   "id": "7ad0abb2",
   "metadata": {},
   "outputs": [
    {
     "data": {
      "text/plain": [
       "array([25.        , 41.66666667, 58.33333333, 75.        ])"
      ]
     },
     "execution_count": 61,
     "metadata": {},
     "output_type": "execute_result"
    }
   ],
   "source": [
    "arr2 = np.linspace(25, 75, 4)\n",
    "arr2"
   ]
  },
  {
   "cell_type": "code",
   "execution_count": 86,
   "id": "950bb8c1",
   "metadata": {},
   "outputs": [
    {
     "data": {
      "text/plain": [
       "array(['Anant', 'Anant', 'Anant', 'Anant', 'Anant'], dtype='<U5')"
      ]
     },
     "execution_count": 86,
     "metadata": {},
     "output_type": "execute_result"
    }
   ],
   "source": [
    "np.full(5, \"Anant\")"
   ]
  },
  {
   "cell_type": "code",
   "execution_count": 87,
   "id": "db2e3d9c",
   "metadata": {},
   "outputs": [
    {
     "data": {
      "text/plain": [
       "array([['Hello', 'Hello'],\n",
       "       ['Hello', 'Hello'],\n",
       "       ['Hello', 'Hello']], dtype='<U5')"
      ]
     },
     "execution_count": 87,
     "metadata": {},
     "output_type": "execute_result"
    }
   ],
   "source": [
    "np.full((3,2), \"Hello\")"
   ]
  },
  {
   "cell_type": "code",
   "execution_count": 101,
   "id": "d527beb3",
   "metadata": {},
   "outputs": [
    {
     "data": {
      "text/plain": [
       "array([10, 10, 10, 10, 10, 10, 10, 10, 10, 10, 10, 10, 10, 10, 10, 10, 10,\n",
       "       10, 10, 10])"
      ]
     },
     "execution_count": 101,
     "metadata": {},
     "output_type": "execute_result"
    }
   ],
   "source": [
    "np.full(20, 10)"
   ]
  },
  {
   "cell_type": "code",
   "execution_count": 102,
   "id": "6ae6975b",
   "metadata": {},
   "outputs": [
    {
     "data": {
      "text/plain": [
       "array(['Hello', 'Hello', 'Hello', 'Hello', 'Hello'], dtype='<U5')"
      ]
     },
     "execution_count": 102,
     "metadata": {},
     "output_type": "execute_result"
    }
   ],
   "source": [
    "np.full(5, 'Hello')"
   ]
  },
  {
   "cell_type": "markdown",
   "id": "f76e9d8f",
   "metadata": {},
   "source": [
    "### Arithematic Operations on array\n",
    "\n",
    "- Addition (+)\n",
    "- Multiplication (*)\n",
    "- Float Division (/)\n",
    "- Int Division (//)\n",
    "- Substraction (-)\n",
    "\n",
    "- For  examples refer above cells where we discussed difference between lists and arrays"
   ]
  },
  {
   "cell_type": "markdown",
   "id": "f840c324",
   "metadata": {},
   "source": [
    "### Statistical operations on an array"
   ]
  },
  {
   "cell_type": "code",
   "execution_count": 64,
   "id": "e45db9ed",
   "metadata": {},
   "outputs": [
    {
     "data": {
      "text/plain": [
       "array([10, 11, 12, 13, 14, 15, 16, 17, 18, 19, 20, 21, 22, 23, 24])"
      ]
     },
     "execution_count": 64,
     "metadata": {},
     "output_type": "execute_result"
    }
   ],
   "source": [
    "## mean operation on an array\n",
    "\n",
    "arr = np.arange(10, 25)\n",
    "arr"
   ]
  },
  {
   "cell_type": "code",
   "execution_count": 65,
   "id": "0684dfc0",
   "metadata": {},
   "outputs": [
    {
     "data": {
      "text/plain": [
       "17.0"
      ]
     },
     "execution_count": 65,
     "metadata": {},
     "output_type": "execute_result"
    }
   ],
   "source": [
    "np.mean(arr)"
   ]
  },
  {
   "cell_type": "code",
   "execution_count": 67,
   "id": "117518c2",
   "metadata": {},
   "outputs": [
    {
     "data": {
      "text/plain": [
       "17.0"
      ]
     },
     "execution_count": 67,
     "metadata": {},
     "output_type": "execute_result"
    }
   ],
   "source": [
    "### calculate median of the array\n",
    "\n",
    "np.median(arr)"
   ]
  },
  {
   "cell_type": "code",
   "execution_count": 68,
   "id": "0ebd4375",
   "metadata": {},
   "outputs": [
    {
     "data": {
      "text/plain": [
       "4.320493798938574"
      ]
     },
     "execution_count": 68,
     "metadata": {},
     "output_type": "execute_result"
    }
   ],
   "source": [
    "np.std(arr)    ## std is for standard deviation"
   ]
  },
  {
   "cell_type": "code",
   "execution_count": 70,
   "id": "57440f17",
   "metadata": {},
   "outputs": [
    {
     "data": {
      "text/plain": [
       "18.666666666666668"
      ]
     },
     "execution_count": 70,
     "metadata": {},
     "output_type": "execute_result"
    }
   ],
   "source": [
    "np.var(arr)     ## var stands for variance"
   ]
  },
  {
   "cell_type": "code",
   "execution_count": 75,
   "id": "26b56e65",
   "metadata": {},
   "outputs": [
    {
     "data": {
      "text/plain": [
       "(15,)"
      ]
     },
     "execution_count": 75,
     "metadata": {},
     "output_type": "execute_result"
    }
   ],
   "source": [
    "arr.shape   ## shape is used for counting the total values present in an array"
   ]
  },
  {
   "cell_type": "code",
   "execution_count": 78,
   "id": "f4a3da82",
   "metadata": {},
   "outputs": [
    {
     "data": {
      "text/plain": [
       "array([0., 0., 0., 0., 0., 0., 0., 0.])"
      ]
     },
     "execution_count": 78,
     "metadata": {},
     "output_type": "execute_result"
    }
   ],
   "source": [
    "z = np.zeros(8)\n",
    "z"
   ]
  },
  {
   "cell_type": "code",
   "execution_count": 79,
   "id": "07ba19b3",
   "metadata": {},
   "outputs": [
    {
     "data": {
      "text/plain": [
       "1"
      ]
     },
     "execution_count": 79,
     "metadata": {},
     "output_type": "execute_result"
    }
   ],
   "source": [
    "z.ndim"
   ]
  },
  {
   "cell_type": "code",
   "execution_count": 82,
   "id": "f8324336",
   "metadata": {},
   "outputs": [
    {
     "data": {
      "text/plain": [
       "array([[0., 0., 0.],\n",
       "       [0., 0., 0.],\n",
       "       [0., 0., 0.],\n",
       "       [0., 0., 0.]])"
      ]
     },
     "execution_count": 82,
     "metadata": {},
     "output_type": "execute_result"
    }
   ],
   "source": [
    "z1 = np.zeros((4,3))\n",
    "z1"
   ]
  },
  {
   "cell_type": "code",
   "execution_count": 83,
   "id": "7ad96d97",
   "metadata": {},
   "outputs": [
    {
     "data": {
      "text/plain": [
       "2"
      ]
     },
     "execution_count": 83,
     "metadata": {},
     "output_type": "execute_result"
    }
   ],
   "source": [
    "z1.ndim"
   ]
  },
  {
   "cell_type": "code",
   "execution_count": 84,
   "id": "e9d3975c",
   "metadata": {},
   "outputs": [
    {
     "data": {
      "text/plain": [
       "array([[[1., 1.],\n",
       "        [1., 1.],\n",
       "        [1., 1.]],\n",
       "\n",
       "       [[1., 1.],\n",
       "        [1., 1.],\n",
       "        [1., 1.]],\n",
       "\n",
       "       [[1., 1.],\n",
       "        [1., 1.],\n",
       "        [1., 1.]]])"
      ]
     },
     "execution_count": 84,
     "metadata": {},
     "output_type": "execute_result"
    }
   ],
   "source": [
    "o3 = np.ones((3,3,2))\n",
    "o3"
   ]
  },
  {
   "cell_type": "code",
   "execution_count": 85,
   "id": "a8bab6e2",
   "metadata": {},
   "outputs": [
    {
     "data": {
      "text/plain": [
       "3"
      ]
     },
     "execution_count": 85,
     "metadata": {},
     "output_type": "execute_result"
    }
   ],
   "source": [
    "o3.ndim"
   ]
  },
  {
   "cell_type": "markdown",
   "id": "7588984f",
   "metadata": {},
   "source": [
    "## Boolean Indexing (Conditional Indexing)"
   ]
  },
  {
   "cell_type": "code",
   "execution_count": 88,
   "id": "1f9ffc31",
   "metadata": {},
   "outputs": [
    {
     "data": {
      "text/plain": [
       "array([10, 11, 12, 13, 14, 15, 16, 17, 18, 19, 20, 21, 22, 23, 24])"
      ]
     },
     "execution_count": 88,
     "metadata": {},
     "output_type": "execute_result"
    }
   ],
   "source": [
    "arr"
   ]
  },
  {
   "cell_type": "code",
   "execution_count": 90,
   "id": "670ad308",
   "metadata": {},
   "outputs": [
    {
     "data": {
      "text/plain": [
       "array([False, False, False, False, False, False, False, False,  True,\n",
       "        True,  True,  True,  True,  True,  True])"
      ]
     },
     "execution_count": 90,
     "metadata": {},
     "output_type": "execute_result"
    }
   ],
   "source": [
    "## Display only [18, 19, 20, 21, 22, 23, 24]\n",
    "\n",
    "arr > 17"
   ]
  },
  {
   "cell_type": "code",
   "execution_count": 91,
   "id": "11b72959",
   "metadata": {},
   "outputs": [
    {
     "data": {
      "text/plain": [
       "array([18, 19, 20, 21, 22, 23, 24])"
      ]
     },
     "execution_count": 91,
     "metadata": {},
     "output_type": "execute_result"
    }
   ],
   "source": [
    "arr[arr > 17]"
   ]
  },
  {
   "cell_type": "code",
   "execution_count": 92,
   "id": "b864a1bf",
   "metadata": {},
   "outputs": [
    {
     "data": {
      "text/plain": [
       "array([123,   5,  37,  59, 175,  84,   3,  38])"
      ]
     },
     "execution_count": 92,
     "metadata": {},
     "output_type": "execute_result"
    }
   ],
   "source": [
    "arr = np.array([123, 5, 37, 59, 175, 84, 3, 38])\n",
    "arr"
   ]
  },
  {
   "cell_type": "code",
   "execution_count": 93,
   "id": "39284c5c",
   "metadata": {},
   "outputs": [
    {
     "data": {
      "text/plain": [
       "array([123,  59, 175,  84])"
      ]
     },
     "execution_count": 93,
     "metadata": {},
     "output_type": "execute_result"
    }
   ],
   "source": [
    "## Display [59, 84, 123, 175]\n",
    "\n",
    "arr[arr > 50]"
   ]
  },
  {
   "cell_type": "code",
   "execution_count": 94,
   "id": "3fa35b7f",
   "metadata": {},
   "outputs": [
    {
     "data": {
      "text/plain": [
       "array([37, 59, 84, 38])"
      ]
     },
     "execution_count": 94,
     "metadata": {},
     "output_type": "execute_result"
    }
   ],
   "source": [
    "### Display values greater than 30 and less than 100\n",
    "\n",
    "arr[(arr > 30) & (arr < 100)]"
   ]
  },
  {
   "cell_type": "code",
   "execution_count": 96,
   "id": "03c03763",
   "metadata": {},
   "outputs": [
    {
     "data": {
      "text/plain": [
       "array([25, 26, 27, 28, 29, 30, 31, 32, 33, 34, 35, 36, 37, 38, 39, 40, 41,\n",
       "       42, 43, 44, 45, 46, 47, 48, 49])"
      ]
     },
     "execution_count": 96,
     "metadata": {},
     "output_type": "execute_result"
    }
   ],
   "source": [
    "arr1 = np.arange(25, 50)\n",
    "arr1"
   ]
  },
  {
   "cell_type": "code",
   "execution_count": 99,
   "id": "eacf4c5a",
   "metadata": {},
   "outputs": [
    {
     "data": {
      "text/plain": [
       "array([30, 45])"
      ]
     },
     "execution_count": 99,
     "metadata": {},
     "output_type": "execute_result"
    }
   ],
   "source": [
    "### Display all the value divisible by 3 and 5 both\n",
    "\n",
    "arr1[(arr1 % 3 == 0) & (arr1 % 5 == 0)]"
   ]
  },
  {
   "cell_type": "code",
   "execution_count": 100,
   "id": "dd52105e",
   "metadata": {},
   "outputs": [
    {
     "data": {
      "text/plain": [
       "array([25, 27, 30, 33, 35, 36, 39, 40, 42, 45, 48])"
      ]
     },
     "execution_count": 100,
     "metadata": {},
     "output_type": "execute_result"
    }
   ],
   "source": [
    "### Display all the value divisible by 3 or 5 \n",
    "\n",
    "arr1[(arr1 % 3 == 0) | (arr1 % 5 == 0)]"
   ]
  },
  {
   "cell_type": "code",
   "execution_count": null,
   "id": "5b3619b7",
   "metadata": {},
   "outputs": [],
   "source": []
  }
 ],
 "metadata": {
  "kernelspec": {
   "display_name": "Python 3 (ipykernel)",
   "language": "python",
   "name": "python3"
  },
  "language_info": {
   "codemirror_mode": {
    "name": "ipython",
    "version": 3
   },
   "file_extension": ".py",
   "mimetype": "text/x-python",
   "name": "python",
   "nbconvert_exporter": "python",
   "pygments_lexer": "ipython3",
   "version": "3.9.16"
  }
 },
 "nbformat": 4,
 "nbformat_minor": 5
}

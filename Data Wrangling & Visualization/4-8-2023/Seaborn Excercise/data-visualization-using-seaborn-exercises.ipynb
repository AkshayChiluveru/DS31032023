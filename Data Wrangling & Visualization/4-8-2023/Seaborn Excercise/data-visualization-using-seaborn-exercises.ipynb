{
 "cells": [
  {
   "cell_type": "markdown",
   "id": "ranging-knife",
   "metadata": {
    "id": "-sErw1lIap6A",
    "papermill": {
     "duration": 0.062494,
     "end_time": "2021-05-04T13:00:36.764986",
     "exception": false,
     "start_time": "2021-05-04T13:00:36.702492",
     "status": "completed"
    },
    "tags": []
   },
   "source": [
    "# DATA VISUALIZATION USING SEABORN"
   ]
  },
  {
   "cell_type": "markdown",
   "id": "creative-dollar",
   "metadata": {
    "id": "mVjO9TYYap6N",
    "papermill": {
     "duration": 0.060626,
     "end_time": "2021-05-04T13:00:37.008399",
     "exception": false,
     "start_time": "2021-05-04T13:00:36.947773",
     "status": "completed"
    },
    "tags": []
   },
   "source": [
    "## Importing python libraries"
   ]
  },
  {
   "cell_type": "code",
   "execution_count": 1,
   "id": "adverse-badge",
   "metadata": {
    "execution": {
     "iopub.execute_input": "2021-05-04T13:00:37.134967Z",
     "iopub.status.busy": "2021-05-04T13:00:37.133866Z",
     "iopub.status.idle": "2021-05-04T13:00:38.033390Z",
     "shell.execute_reply": "2021-05-04T13:00:38.032530Z"
    },
    "executionInfo": {
     "elapsed": 1480,
     "status": "ok",
     "timestamp": 1619435438448,
     "user": {
      "displayName": "Venugopal Adep",
      "photoUrl": "",
      "userId": "09080258915581210046"
     },
     "user_tz": -330
    },
    "id": "t924xmIZap6N",
    "papermill": {
     "duration": 0.964273,
     "end_time": "2021-05-04T13:00:38.033557",
     "exception": false,
     "start_time": "2021-05-04T13:00:37.069284",
     "status": "completed"
    },
    "tags": []
   },
   "outputs": [],
   "source": [
    "#Data processing libraries\n",
    "import numpy as np # linear algebra\n",
    "import pandas as pd # data processing, CSV file I/O (e.g. pd.read_csv)\n",
    "\n",
    "#Visualization libraries\n",
    "import seaborn as sns\n",
    "import matplotlib.pyplot as plt\n",
    "\n",
    "import warnings\n",
    "warnings.filterwarnings('ignore')"
   ]
  },
  {
   "cell_type": "markdown",
   "id": "floating-samuel",
   "metadata": {
    "id": "Swu1aADBap6O",
    "papermill": {
     "duration": 0.061736,
     "end_time": "2021-05-04T13:00:38.157841",
     "exception": false,
     "start_time": "2021-05-04T13:00:38.096105",
     "status": "completed"
    },
    "tags": []
   },
   "source": [
    "## Importing datasets"
   ]
  },
  {
   "cell_type": "code",
   "execution_count": 2,
   "id": "exterior-television",
   "metadata": {
    "execution": {
     "iopub.execute_input": "2021-05-04T13:00:38.287288Z",
     "iopub.status.busy": "2021-05-04T13:00:38.286638Z",
     "iopub.status.idle": "2021-05-04T13:00:38.565858Z",
     "shell.execute_reply": "2021-05-04T13:00:38.565211Z"
    },
    "executionInfo": {
     "elapsed": 3569,
     "status": "ok",
     "timestamp": 1619435445550,
     "user": {
      "displayName": "Venugopal Adep",
      "photoUrl": "",
      "userId": "09080258915581210046"
     },
     "user_tz": -330
    },
    "id": "YZWSTftpap6O",
    "papermill": {
     "duration": 0.346512,
     "end_time": "2021-05-04T13:00:38.566000",
     "exception": false,
     "start_time": "2021-05-04T13:00:38.219488",
     "status": "completed"
    },
    "tags": []
   },
   "outputs": [],
   "source": [
    "bank = pd.read_csv('../input/telco-customer-churn/Churn_Modelling.csv')\n",
    "telco = pd.read_csv('../input/telcom-customer-churn/customer_churn_data.csv')\n",
    "stroke = pd.read_csv('../input/strokes-data/strokes_data.csv')\n",
    "house = pd.read_csv('../input/house-price/kc_house_data.csv')\n",
    "insurance = pd.read_csv('../input/insurance-charges/insurance.csv')\n",
    "tips = pd.read_csv('../input/tips-data/tips_data.csv')"
   ]
  },
  {
   "cell_type": "markdown",
   "id": "cleared-travel",
   "metadata": {
    "id": "7oeRJZrlap6P",
    "papermill": {
     "duration": 0.060923,
     "end_time": "2021-05-04T13:00:38.688355",
     "exception": false,
     "start_time": "2021-05-04T13:00:38.627432",
     "status": "completed"
    },
    "tags": []
   },
   "source": [
    "## Display few lines of data"
   ]
  },
  {
   "cell_type": "markdown",
   "id": "complicated-faith",
   "metadata": {
    "id": "ZBQTkSDZap6P",
    "papermill": {
     "duration": 0.061779,
     "end_time": "2021-05-04T13:00:38.811063",
     "exception": false,
     "start_time": "2021-05-04T13:00:38.749284",
     "status": "completed"
    },
    "tags": []
   },
   "source": [
    "**Display first 5 rows of 'bank' dataset**"
   ]
  },
  {
   "cell_type": "code",
   "execution_count": 3,
   "id": "similar-cycle",
   "metadata": {
    "execution": {
     "iopub.execute_input": "2021-05-04T13:00:38.941046Z",
     "iopub.status.busy": "2021-05-04T13:00:38.940439Z",
     "iopub.status.idle": "2021-05-04T13:00:38.943611Z",
     "shell.execute_reply": "2021-05-04T13:00:38.942969Z"
    },
    "executionInfo": {
     "elapsed": 979,
     "status": "ok",
     "timestamp": 1619411121995,
     "user": {
      "displayName": "Venugopal Adep",
      "photoUrl": "",
      "userId": "09080258915581210046"
     },
     "user_tz": -330
    },
    "id": "HcELp592ap6Q",
    "outputId": "1a034b2f-61eb-4081-a187-f016ebf47778",
    "papermill": {
     "duration": 0.069977,
     "end_time": "2021-05-04T13:00:38.943734",
     "exception": false,
     "start_time": "2021-05-04T13:00:38.873757",
     "status": "completed"
    },
    "scrolled": true,
    "tags": []
   },
   "outputs": [],
   "source": [
    "#_____.head()"
   ]
  },
  {
   "cell_type": "markdown",
   "id": "decent-brand",
   "metadata": {
    "id": "9clj6vBWap6Q",
    "papermill": {
     "duration": 0.061421,
     "end_time": "2021-05-04T13:00:39.066212",
     "exception": false,
     "start_time": "2021-05-04T13:00:39.004791",
     "status": "completed"
    },
    "tags": []
   },
   "source": [
    "**Display first 5 rows of 'telco' dataset**"
   ]
  },
  {
   "cell_type": "code",
   "execution_count": 4,
   "id": "adopted-coverage",
   "metadata": {
    "execution": {
     "iopub.execute_input": "2021-05-04T13:00:39.192862Z",
     "iopub.status.busy": "2021-05-04T13:00:39.192163Z",
     "iopub.status.idle": "2021-05-04T13:00:39.195967Z",
     "shell.execute_reply": "2021-05-04T13:00:39.195496Z"
    },
    "executionInfo": {
     "elapsed": 1033,
     "status": "ok",
     "timestamp": 1619411160192,
     "user": {
      "displayName": "Venugopal Adep",
      "photoUrl": "",
      "userId": "09080258915581210046"
     },
     "user_tz": -330
    },
    "id": "kqBo0Q7jap6Q",
    "outputId": "e8b060e8-9c67-41f7-ffd4-d2e818047f51",
    "papermill": {
     "duration": 0.068436,
     "end_time": "2021-05-04T13:00:39.196100",
     "exception": false,
     "start_time": "2021-05-04T13:00:39.127664",
     "status": "completed"
    },
    "tags": []
   },
   "outputs": [],
   "source": [
    "#_____.head()"
   ]
  },
  {
   "cell_type": "markdown",
   "id": "expensive-jones",
   "metadata": {
    "id": "G7T83uROap6R",
    "papermill": {
     "duration": 0.061123,
     "end_time": "2021-05-04T13:00:39.319599",
     "exception": false,
     "start_time": "2021-05-04T13:00:39.258476",
     "status": "completed"
    },
    "tags": []
   },
   "source": [
    "**Display first 5 rows of 'stroke' dataset**"
   ]
  },
  {
   "cell_type": "code",
   "execution_count": 5,
   "id": "chief-clerk",
   "metadata": {
    "execution": {
     "iopub.execute_input": "2021-05-04T13:00:39.447484Z",
     "iopub.status.busy": "2021-05-04T13:00:39.446759Z",
     "iopub.status.idle": "2021-05-04T13:00:39.449760Z",
     "shell.execute_reply": "2021-05-04T13:00:39.449265Z"
    },
    "id": "hVhZcvD6ap6R",
    "papermill": {
     "duration": 0.068739,
     "end_time": "2021-05-04T13:00:39.449883",
     "exception": false,
     "start_time": "2021-05-04T13:00:39.381144",
     "status": "completed"
    },
    "tags": []
   },
   "outputs": [],
   "source": [
    "#____.head()"
   ]
  },
  {
   "cell_type": "markdown",
   "id": "russian-warrant",
   "metadata": {
    "id": "9et_T1xtap6R",
    "papermill": {
     "duration": 0.062509,
     "end_time": "2021-05-04T13:00:39.574126",
     "exception": false,
     "start_time": "2021-05-04T13:00:39.511617",
     "status": "completed"
    },
    "tags": []
   },
   "source": [
    "**Display first 5 rows of 'house' dataset**"
   ]
  },
  {
   "cell_type": "code",
   "execution_count": 6,
   "id": "unusual-sharing",
   "metadata": {
    "execution": {
     "iopub.execute_input": "2021-05-04T13:00:39.701628Z",
     "iopub.status.busy": "2021-05-04T13:00:39.701010Z",
     "iopub.status.idle": "2021-05-04T13:00:39.703789Z",
     "shell.execute_reply": "2021-05-04T13:00:39.704201Z"
    },
    "id": "s6op9fxaap6S",
    "papermill": {
     "duration": 0.068345,
     "end_time": "2021-05-04T13:00:39.704374",
     "exception": false,
     "start_time": "2021-05-04T13:00:39.636029",
     "status": "completed"
    },
    "tags": []
   },
   "outputs": [],
   "source": [
    "#____.head()"
   ]
  },
  {
   "cell_type": "markdown",
   "id": "detected-going",
   "metadata": {
    "id": "HIGRA-b4ap6S",
    "papermill": {
     "duration": 0.068629,
     "end_time": "2021-05-04T13:00:39.836483",
     "exception": false,
     "start_time": "2021-05-04T13:00:39.767854",
     "status": "completed"
    },
    "tags": []
   },
   "source": [
    "**Display first 5 rows of 'insurance' dataset**"
   ]
  },
  {
   "cell_type": "code",
   "execution_count": 7,
   "id": "placed-figure",
   "metadata": {
    "execution": {
     "iopub.execute_input": "2021-05-04T13:00:39.986660Z",
     "iopub.status.busy": "2021-05-04T13:00:39.985987Z",
     "iopub.status.idle": "2021-05-04T13:00:39.988896Z",
     "shell.execute_reply": "2021-05-04T13:00:39.989354Z"
    },
    "id": "Ix_rZtorap6S",
    "papermill": {
     "duration": 0.068712,
     "end_time": "2021-05-04T13:00:39.989575",
     "exception": false,
     "start_time": "2021-05-04T13:00:39.920863",
     "status": "completed"
    },
    "tags": []
   },
   "outputs": [],
   "source": [
    "#_____.head()"
   ]
  },
  {
   "cell_type": "markdown",
   "id": "julian-decade",
   "metadata": {
    "id": "-Hy9vhbLap6T",
    "papermill": {
     "duration": 0.062622,
     "end_time": "2021-05-04T13:00:40.114721",
     "exception": false,
     "start_time": "2021-05-04T13:00:40.052099",
     "status": "completed"
    },
    "tags": []
   },
   "source": [
    "## Display size of the data"
   ]
  },
  {
   "cell_type": "markdown",
   "id": "civilian-computer",
   "metadata": {
    "id": "ozM15KOTap6T",
    "papermill": {
     "duration": 0.062195,
     "end_time": "2021-05-04T13:00:40.238957",
     "exception": false,
     "start_time": "2021-05-04T13:00:40.176762",
     "status": "completed"
    },
    "tags": []
   },
   "source": [
    "**Display the size of 'bank','telco','stroke','house' and 'insurance' datasets**"
   ]
  },
  {
   "cell_type": "code",
   "execution_count": 8,
   "id": "seeing-print",
   "metadata": {
    "execution": {
     "iopub.execute_input": "2021-05-04T13:00:40.365858Z",
     "iopub.status.busy": "2021-05-04T13:00:40.365162Z",
     "iopub.status.idle": "2021-05-04T13:00:40.368510Z",
     "shell.execute_reply": "2021-05-04T13:00:40.368977Z"
    },
    "id": "GpWZB2jRap6T",
    "papermill": {
     "duration": 0.068331,
     "end_time": "2021-05-04T13:00:40.369129",
     "exception": false,
     "start_time": "2021-05-04T13:00:40.300798",
     "status": "completed"
    },
    "tags": []
   },
   "outputs": [],
   "source": [
    "#print(\"bank :\", _____.shape)\n",
    "#print(\"telco :\", _____.shape)\n",
    "#print(\"stroke :\", _____.shape)\n",
    "#print(\"house :\", _____.shape)\n",
    "#print(\"insurance :\", _____.shape)"
   ]
  },
  {
   "cell_type": "markdown",
   "id": "worst-facial",
   "metadata": {
    "id": "fDXsSZ1oap6U",
    "papermill": {
     "duration": 0.06171,
     "end_time": "2021-05-04T13:00:40.493886",
     "exception": false,
     "start_time": "2021-05-04T13:00:40.432176",
     "status": "completed"
    },
    "tags": []
   },
   "source": [
    "## Display Information"
   ]
  },
  {
   "cell_type": "markdown",
   "id": "desperate-liberty",
   "metadata": {
    "id": "QFF9RR7Tap6U",
    "papermill": {
     "duration": 0.063524,
     "end_time": "2021-05-04T13:00:40.619980",
     "exception": false,
     "start_time": "2021-05-04T13:00:40.556456",
     "status": "completed"
    },
    "tags": []
   },
   "source": [
    "**Display information (fields, datatypes, null values etc) about 'bank' dataset**"
   ]
  },
  {
   "cell_type": "code",
   "execution_count": 9,
   "id": "radio-judge",
   "metadata": {
    "execution": {
     "iopub.execute_input": "2021-05-04T13:00:40.747395Z",
     "iopub.status.busy": "2021-05-04T13:00:40.746789Z",
     "iopub.status.idle": "2021-05-04T13:00:40.749742Z",
     "shell.execute_reply": "2021-05-04T13:00:40.750150Z"
    },
    "id": "r9ZLF1qZap6V",
    "papermill": {
     "duration": 0.06864,
     "end_time": "2021-05-04T13:00:40.750340",
     "exception": false,
     "start_time": "2021-05-04T13:00:40.681700",
     "status": "completed"
    },
    "tags": []
   },
   "outputs": [],
   "source": [
    "#_____.info()"
   ]
  },
  {
   "cell_type": "markdown",
   "id": "chief-tolerance",
   "metadata": {
    "id": "nDzrca0yap6V",
    "papermill": {
     "duration": 0.062222,
     "end_time": "2021-05-04T13:00:40.874923",
     "exception": false,
     "start_time": "2021-05-04T13:00:40.812701",
     "status": "completed"
    },
    "tags": []
   },
   "source": [
    "**Display information (fields, datatypes, null values etc) about 'telco' dataset**"
   ]
  },
  {
   "cell_type": "code",
   "execution_count": 10,
   "id": "little-actor",
   "metadata": {
    "execution": {
     "iopub.execute_input": "2021-05-04T13:00:41.003850Z",
     "iopub.status.busy": "2021-05-04T13:00:41.003169Z",
     "iopub.status.idle": "2021-05-04T13:00:41.006204Z",
     "shell.execute_reply": "2021-05-04T13:00:41.006717Z"
    },
    "id": "o_KR92fyap6V",
    "papermill": {
     "duration": 0.069748,
     "end_time": "2021-05-04T13:00:41.006870",
     "exception": false,
     "start_time": "2021-05-04T13:00:40.937122",
     "status": "completed"
    },
    "tags": []
   },
   "outputs": [],
   "source": [
    "#_____.info()"
   ]
  },
  {
   "cell_type": "markdown",
   "id": "expensive-symbol",
   "metadata": {
    "id": "fVUv0WKvap6W",
    "papermill": {
     "duration": 0.062837,
     "end_time": "2021-05-04T13:00:41.132702",
     "exception": false,
     "start_time": "2021-05-04T13:00:41.069865",
     "status": "completed"
    },
    "tags": []
   },
   "source": [
    "**Display information (fields, datatypes, null values etc) about 'stroke' dataset**"
   ]
  },
  {
   "cell_type": "code",
   "execution_count": 11,
   "id": "european-physics",
   "metadata": {
    "execution": {
     "iopub.execute_input": "2021-05-04T13:00:41.261567Z",
     "iopub.status.busy": "2021-05-04T13:00:41.260943Z",
     "iopub.status.idle": "2021-05-04T13:00:41.263846Z",
     "shell.execute_reply": "2021-05-04T13:00:41.264309Z"
    },
    "id": "_OaWAVcaap6W",
    "papermill": {
     "duration": 0.068803,
     "end_time": "2021-05-04T13:00:41.264461",
     "exception": false,
     "start_time": "2021-05-04T13:00:41.195658",
     "status": "completed"
    },
    "tags": []
   },
   "outputs": [],
   "source": [
    "#_____.info()"
   ]
  },
  {
   "cell_type": "markdown",
   "id": "capital-inclusion",
   "metadata": {
    "id": "vC2YiV8Rap6W",
    "papermill": {
     "duration": 0.062314,
     "end_time": "2021-05-04T13:00:41.389699",
     "exception": false,
     "start_time": "2021-05-04T13:00:41.327385",
     "status": "completed"
    },
    "tags": []
   },
   "source": [
    "**Display information (fields, datatypes, null values etc) about 'house' dataset**"
   ]
  },
  {
   "cell_type": "code",
   "execution_count": 12,
   "id": "willing-burner",
   "metadata": {
    "execution": {
     "iopub.execute_input": "2021-05-04T13:00:41.518230Z",
     "iopub.status.busy": "2021-05-04T13:00:41.517602Z",
     "iopub.status.idle": "2021-05-04T13:00:41.520787Z",
     "shell.execute_reply": "2021-05-04T13:00:41.521269Z"
    },
    "id": "nmksiAX2ap6X",
    "papermill": {
     "duration": 0.069144,
     "end_time": "2021-05-04T13:00:41.521448",
     "exception": false,
     "start_time": "2021-05-04T13:00:41.452304",
     "status": "completed"
    },
    "tags": []
   },
   "outputs": [],
   "source": [
    "#_____.info()"
   ]
  },
  {
   "cell_type": "markdown",
   "id": "abstract-aside",
   "metadata": {
    "id": "WD0DZ3m7ap6X",
    "papermill": {
     "duration": 0.062445,
     "end_time": "2021-05-04T13:00:41.647398",
     "exception": false,
     "start_time": "2021-05-04T13:00:41.584953",
     "status": "completed"
    },
    "tags": []
   },
   "source": [
    "**Display information (fields, datatypes, null values etc) about 'insurance' dataset**"
   ]
  },
  {
   "cell_type": "code",
   "execution_count": 13,
   "id": "killing-civilization",
   "metadata": {
    "execution": {
     "iopub.execute_input": "2021-05-04T13:00:41.776465Z",
     "iopub.status.busy": "2021-05-04T13:00:41.775670Z",
     "iopub.status.idle": "2021-05-04T13:00:41.778455Z",
     "shell.execute_reply": "2021-05-04T13:00:41.778938Z"
    },
    "id": "ky9EHnoTap6X",
    "papermill": {
     "duration": 0.069,
     "end_time": "2021-05-04T13:00:41.779092",
     "exception": false,
     "start_time": "2021-05-04T13:00:41.710092",
     "status": "completed"
    },
    "tags": []
   },
   "outputs": [],
   "source": [
    "#_____.info()"
   ]
  },
  {
   "cell_type": "markdown",
   "id": "structured-timothy",
   "metadata": {
    "id": "USJ_uonSap6X",
    "papermill": {
     "duration": 0.062839,
     "end_time": "2021-05-04T13:00:41.906341",
     "exception": false,
     "start_time": "2021-05-04T13:00:41.843502",
     "status": "completed"
    },
    "tags": []
   },
   "source": [
    "# RELATIONAL PLOTS (numerical x numerical)"
   ]
  },
  {
   "cell_type": "markdown",
   "id": "blind-exception",
   "metadata": {
    "id": "zQgwU5k8ap6Y",
    "papermill": {
     "duration": 0.06433,
     "end_time": "2021-05-04T13:00:42.034291",
     "exception": false,
     "start_time": "2021-05-04T13:00:41.969961",
     "status": "completed"
    },
    "tags": []
   },
   "source": [
    "## tips | relplot | total_bill vs tip - day"
   ]
  },
  {
   "cell_type": "code",
   "execution_count": 14,
   "id": "visible-radio",
   "metadata": {
    "execution": {
     "iopub.execute_input": "2021-05-04T13:00:42.163978Z",
     "iopub.status.busy": "2021-05-04T13:00:42.163387Z",
     "iopub.status.idle": "2021-05-04T13:00:42.166299Z",
     "shell.execute_reply": "2021-05-04T13:00:42.166751Z"
    },
    "id": "PONQWmcdap6Y",
    "papermill": {
     "duration": 0.069343,
     "end_time": "2021-05-04T13:00:42.166900",
     "exception": false,
     "start_time": "2021-05-04T13:00:42.097557",
     "status": "completed"
    },
    "scrolled": true,
    "tags": []
   },
   "outputs": [],
   "source": [
    "#sns._____(data=tips, x=\"_____\", y=\"_____\", hue=\"_____\")"
   ]
  },
  {
   "cell_type": "markdown",
   "id": "offensive-unemployment",
   "metadata": {
    "id": "wiufwEgeap6Y",
    "papermill": {
     "duration": 0.062488,
     "end_time": "2021-05-04T13:00:42.293435",
     "exception": false,
     "start_time": "2021-05-04T13:00:42.230947",
     "status": "completed"
    },
    "tags": []
   },
   "source": [
    "## tips | scatterplot | total_bill vs tip - day"
   ]
  },
  {
   "cell_type": "code",
   "execution_count": 15,
   "id": "sized-modification",
   "metadata": {
    "execution": {
     "iopub.execute_input": "2021-05-04T13:00:42.423507Z",
     "iopub.status.busy": "2021-05-04T13:00:42.422887Z",
     "iopub.status.idle": "2021-05-04T13:00:42.425748Z",
     "shell.execute_reply": "2021-05-04T13:00:42.426283Z"
    },
    "id": "ILPCd4juap6Y",
    "papermill": {
     "duration": 0.069822,
     "end_time": "2021-05-04T13:00:42.426449",
     "exception": false,
     "start_time": "2021-05-04T13:00:42.356627",
     "status": "completed"
    },
    "scrolled": true,
    "tags": []
   },
   "outputs": [],
   "source": [
    "#sns._____(data=tips, x=\"_____\", y=\"_____\", hue=\"_____\")"
   ]
  },
  {
   "cell_type": "markdown",
   "id": "operating-workplace",
   "metadata": {
    "id": "vmQ-l2APap6Z",
    "papermill": {
     "duration": 0.063451,
     "end_time": "2021-05-04T13:00:42.552952",
     "exception": false,
     "start_time": "2021-05-04T13:00:42.489501",
     "status": "completed"
    },
    "tags": []
   },
   "source": [
    "## tips | lineplot | total_bill vs tip - day"
   ]
  },
  {
   "cell_type": "code",
   "execution_count": 16,
   "id": "humanitarian-tobacco",
   "metadata": {
    "execution": {
     "iopub.execute_input": "2021-05-04T13:00:42.684121Z",
     "iopub.status.busy": "2021-05-04T13:00:42.683540Z",
     "iopub.status.idle": "2021-05-04T13:00:42.686447Z",
     "shell.execute_reply": "2021-05-04T13:00:42.686886Z"
    },
    "id": "TPrynY4Gap6Z",
    "papermill": {
     "duration": 0.069985,
     "end_time": "2021-05-04T13:00:42.687024",
     "exception": false,
     "start_time": "2021-05-04T13:00:42.617039",
     "status": "completed"
    },
    "tags": []
   },
   "outputs": [],
   "source": [
    "#sns._____(data=tips, x=\"_____\", y=\"_____\", hue=\"_____\")"
   ]
  },
  {
   "cell_type": "markdown",
   "id": "exempt-diameter",
   "metadata": {
    "id": "utRKZtsLap6Z",
    "papermill": {
     "duration": 0.064054,
     "end_time": "2021-05-04T13:00:42.814597",
     "exception": false,
     "start_time": "2021-05-04T13:00:42.750543",
     "status": "completed"
    },
    "tags": []
   },
   "source": [
    "## bank | scatterplot | NumOfProducts vs Age   -   Exited"
   ]
  },
  {
   "cell_type": "code",
   "execution_count": 17,
   "id": "funded-venice",
   "metadata": {
    "execution": {
     "iopub.execute_input": "2021-05-04T13:00:42.945055Z",
     "iopub.status.busy": "2021-05-04T13:00:42.944413Z",
     "iopub.status.idle": "2021-05-04T13:00:42.947299Z",
     "shell.execute_reply": "2021-05-04T13:00:42.947731Z"
    },
    "id": "kwwEQFaoap6Z",
    "papermill": {
     "duration": 0.069315,
     "end_time": "2021-05-04T13:00:42.947952",
     "exception": false,
     "start_time": "2021-05-04T13:00:42.878637",
     "status": "completed"
    },
    "scrolled": true,
    "tags": []
   },
   "outputs": [],
   "source": [
    "#sns._____(data=bank, x=\"_____\", y=\"_____\", hue=\"_____\")"
   ]
  },
  {
   "cell_type": "markdown",
   "id": "compatible-leisure",
   "metadata": {
    "id": "IpTdtqrbap6a",
    "papermill": {
     "duration": 0.06385,
     "end_time": "2021-05-04T13:00:43.075662",
     "exception": false,
     "start_time": "2021-05-04T13:00:43.011812",
     "status": "completed"
    },
    "tags": []
   },
   "source": [
    "## stroke | scatterplot | bmi vs age   -   stroke"
   ]
  },
  {
   "cell_type": "code",
   "execution_count": 18,
   "id": "worth-polish",
   "metadata": {
    "execution": {
     "iopub.execute_input": "2021-05-04T13:00:43.206815Z",
     "iopub.status.busy": "2021-05-04T13:00:43.206144Z",
     "iopub.status.idle": "2021-05-04T13:00:43.209125Z",
     "shell.execute_reply": "2021-05-04T13:00:43.209668Z"
    },
    "id": "XGBhbJzyap6a",
    "papermill": {
     "duration": 0.069913,
     "end_time": "2021-05-04T13:00:43.209823",
     "exception": false,
     "start_time": "2021-05-04T13:00:43.139910",
     "status": "completed"
    },
    "scrolled": true,
    "tags": []
   },
   "outputs": [],
   "source": [
    "#sns._____(data=stroke, x=\"_____\", y=\"_____\", hue=\"_____\")"
   ]
  },
  {
   "cell_type": "markdown",
   "id": "adapted-bride",
   "metadata": {
    "id": "rSd8J8-Jap6a",
    "papermill": {
     "duration": 0.063257,
     "end_time": "2021-05-04T13:00:43.337180",
     "exception": false,
     "start_time": "2021-05-04T13:00:43.273923",
     "status": "completed"
    },
    "tags": []
   },
   "source": [
    "## house | scatterplot | sqft_living vs price"
   ]
  },
  {
   "cell_type": "code",
   "execution_count": 19,
   "id": "hindu-parks",
   "metadata": {
    "execution": {
     "iopub.execute_input": "2021-05-04T13:00:43.468270Z",
     "iopub.status.busy": "2021-05-04T13:00:43.467687Z",
     "iopub.status.idle": "2021-05-04T13:00:43.470626Z",
     "shell.execute_reply": "2021-05-04T13:00:43.471090Z"
    },
    "id": "tNklxYYYap6a",
    "papermill": {
     "duration": 0.069925,
     "end_time": "2021-05-04T13:00:43.471255",
     "exception": false,
     "start_time": "2021-05-04T13:00:43.401330",
     "status": "completed"
    },
    "scrolled": true,
    "tags": []
   },
   "outputs": [],
   "source": [
    "#sns._____(data=house, x=\"_____\", y=\"_____\")"
   ]
  },
  {
   "cell_type": "markdown",
   "id": "palestinian-pregnancy",
   "metadata": {
    "id": "ZtIF2bR8ap6a",
    "papermill": {
     "duration": 0.064558,
     "end_time": "2021-05-04T13:00:43.600334",
     "exception": false,
     "start_time": "2021-05-04T13:00:43.535776",
     "status": "completed"
    },
    "tags": []
   },
   "source": [
    "## house | scatterplot | age vs charges   -   smoker"
   ]
  },
  {
   "cell_type": "code",
   "execution_count": 20,
   "id": "surprising-growth",
   "metadata": {
    "execution": {
     "iopub.execute_input": "2021-05-04T13:00:43.731264Z",
     "iopub.status.busy": "2021-05-04T13:00:43.730660Z",
     "iopub.status.idle": "2021-05-04T13:00:43.734642Z",
     "shell.execute_reply": "2021-05-04T13:00:43.734085Z"
    },
    "id": "biIxKr52ap6b",
    "papermill": {
     "duration": 0.070144,
     "end_time": "2021-05-04T13:00:43.734766",
     "exception": false,
     "start_time": "2021-05-04T13:00:43.664622",
     "status": "completed"
    },
    "tags": []
   },
   "outputs": [],
   "source": [
    "#sns._____(data=insurance, x=\"_____\", y=\"_____\", hue=\"_____\")"
   ]
  },
  {
   "cell_type": "markdown",
   "id": "selected-logan",
   "metadata": {
    "id": "c4BS-6brap6b",
    "papermill": {
     "duration": 0.063097,
     "end_time": "2021-05-04T13:00:43.861570",
     "exception": false,
     "start_time": "2021-05-04T13:00:43.798473",
     "status": "completed"
    },
    "tags": []
   },
   "source": [
    "# CATEGORICAL PLOTS (categorical x numerical)"
   ]
  },
  {
   "cell_type": "markdown",
   "id": "numeric-singing",
   "metadata": {
    "id": "3UqOl-U4ap6b",
    "papermill": {
     "duration": 0.064221,
     "end_time": "2021-05-04T13:00:43.990781",
     "exception": false,
     "start_time": "2021-05-04T13:00:43.926560",
     "status": "completed"
    },
    "tags": []
   },
   "source": [
    "## stroke | stripplot | stroke vs age"
   ]
  },
  {
   "cell_type": "code",
   "execution_count": 21,
   "id": "exclusive-steering",
   "metadata": {
    "execution": {
     "iopub.execute_input": "2021-05-04T13:00:44.124484Z",
     "iopub.status.busy": "2021-05-04T13:00:44.123867Z",
     "iopub.status.idle": "2021-05-04T13:00:44.126470Z",
     "shell.execute_reply": "2021-05-04T13:00:44.126948Z"
    },
    "id": "3s-EbGoXap6b",
    "papermill": {
     "duration": 0.071481,
     "end_time": "2021-05-04T13:00:44.127094",
     "exception": false,
     "start_time": "2021-05-04T13:00:44.055613",
     "status": "completed"
    },
    "scrolled": true,
    "tags": []
   },
   "outputs": [],
   "source": [
    "#sns._____(x='_____', y='_____', data=stroke)"
   ]
  },
  {
   "cell_type": "markdown",
   "id": "recreational-victorian",
   "metadata": {
    "id": "olnZS6ijap6c",
    "papermill": {
     "duration": 0.063209,
     "end_time": "2021-05-04T13:00:44.254356",
     "exception": false,
     "start_time": "2021-05-04T13:00:44.191147",
     "status": "completed"
    },
    "tags": []
   },
   "source": [
    "## stroke | swarmplot | stroke vs age"
   ]
  },
  {
   "cell_type": "code",
   "execution_count": 22,
   "id": "photographic-bench",
   "metadata": {
    "execution": {
     "iopub.execute_input": "2021-05-04T13:00:44.387046Z",
     "iopub.status.busy": "2021-05-04T13:00:44.386315Z",
     "iopub.status.idle": "2021-05-04T13:00:44.388995Z",
     "shell.execute_reply": "2021-05-04T13:00:44.388417Z"
    },
    "id": "zSGIiMc0ap6c",
    "papermill": {
     "duration": 0.070706,
     "end_time": "2021-05-04T13:00:44.389120",
     "exception": false,
     "start_time": "2021-05-04T13:00:44.318414",
     "status": "completed"
    },
    "scrolled": true,
    "tags": []
   },
   "outputs": [],
   "source": [
    "#sns._____(x='_____', y='_____', data=stroke)"
   ]
  },
  {
   "cell_type": "markdown",
   "id": "retired-depression",
   "metadata": {
    "id": "5FOtvpE2ap6c",
    "papermill": {
     "duration": 0.064659,
     "end_time": "2021-05-04T13:00:44.517858",
     "exception": false,
     "start_time": "2021-05-04T13:00:44.453199",
     "status": "completed"
    },
    "tags": []
   },
   "source": [
    "## stroke | boxplot | stroke vs age"
   ]
  },
  {
   "cell_type": "code",
   "execution_count": 23,
   "id": "familiar-plane",
   "metadata": {
    "execution": {
     "iopub.execute_input": "2021-05-04T13:00:44.652183Z",
     "iopub.status.busy": "2021-05-04T13:00:44.651599Z",
     "iopub.status.idle": "2021-05-04T13:00:44.654475Z",
     "shell.execute_reply": "2021-05-04T13:00:44.653941Z"
    },
    "id": "3QS7TpDYap6c",
    "papermill": {
     "duration": 0.072136,
     "end_time": "2021-05-04T13:00:44.654600",
     "exception": false,
     "start_time": "2021-05-04T13:00:44.582464",
     "status": "completed"
    },
    "scrolled": true,
    "tags": []
   },
   "outputs": [],
   "source": [
    "#sns._____(x='_____', y='_____', data=stroke)"
   ]
  },
  {
   "cell_type": "markdown",
   "id": "realistic-colors",
   "metadata": {
    "id": "ZNllMX5Lap6c",
    "papermill": {
     "duration": 0.06482,
     "end_time": "2021-05-04T13:00:44.783843",
     "exception": false,
     "start_time": "2021-05-04T13:00:44.719023",
     "status": "completed"
    },
    "tags": []
   },
   "source": [
    "## stroke | boxenplot | stroke vs age"
   ]
  },
  {
   "cell_type": "code",
   "execution_count": 24,
   "id": "scenic-height",
   "metadata": {
    "execution": {
     "iopub.execute_input": "2021-05-04T13:00:44.918102Z",
     "iopub.status.busy": "2021-05-04T13:00:44.917514Z",
     "iopub.status.idle": "2021-05-04T13:00:44.920924Z",
     "shell.execute_reply": "2021-05-04T13:00:44.920415Z"
    },
    "id": "Q0nfbgFQap6d",
    "papermill": {
     "duration": 0.072182,
     "end_time": "2021-05-04T13:00:44.921056",
     "exception": false,
     "start_time": "2021-05-04T13:00:44.848874",
     "status": "completed"
    },
    "scrolled": true,
    "tags": []
   },
   "outputs": [],
   "source": [
    "#sns._____(x='_____', y='_____', data=stroke)"
   ]
  },
  {
   "cell_type": "markdown",
   "id": "according-hypothetical",
   "metadata": {
    "id": "65jaz5i-ap6d",
    "papermill": {
     "duration": 0.064691,
     "end_time": "2021-05-04T13:00:45.050962",
     "exception": false,
     "start_time": "2021-05-04T13:00:44.986271",
     "status": "completed"
    },
    "tags": []
   },
   "source": [
    "## stroke | violinplot | stroke vs age"
   ]
  },
  {
   "cell_type": "code",
   "execution_count": 25,
   "id": "expensive-boulder",
   "metadata": {
    "execution": {
     "iopub.execute_input": "2021-05-04T13:00:45.185615Z",
     "iopub.status.busy": "2021-05-04T13:00:45.184629Z",
     "iopub.status.idle": "2021-05-04T13:00:45.187950Z",
     "shell.execute_reply": "2021-05-04T13:00:45.187484Z"
    },
    "id": "7PU4fygxap6d",
    "papermill": {
     "duration": 0.071632,
     "end_time": "2021-05-04T13:00:45.188078",
     "exception": false,
     "start_time": "2021-05-04T13:00:45.116446",
     "status": "completed"
    },
    "scrolled": true,
    "tags": []
   },
   "outputs": [],
   "source": [
    "#sns._____(x='_____', y='_____', data=stroke)"
   ]
  },
  {
   "cell_type": "markdown",
   "id": "certified-soviet",
   "metadata": {
    "id": "FpGQ0B0sap6d",
    "papermill": {
     "duration": 0.064721,
     "end_time": "2021-05-04T13:00:45.317338",
     "exception": false,
     "start_time": "2021-05-04T13:00:45.252617",
     "status": "completed"
    },
    "tags": []
   },
   "source": [
    "# REGRESSION PLOTS (numerical x numerical)"
   ]
  },
  {
   "cell_type": "markdown",
   "id": "fossil-printer",
   "metadata": {
    "id": "b1eaLwV4ap6d",
    "papermill": {
     "duration": 0.064621,
     "end_time": "2021-05-04T13:00:45.446163",
     "exception": false,
     "start_time": "2021-05-04T13:00:45.381542",
     "status": "completed"
    },
    "tags": []
   },
   "source": [
    "## stroke | lmplot | age vs bmi  - stroke"
   ]
  },
  {
   "cell_type": "code",
   "execution_count": 26,
   "id": "demanding-crossing",
   "metadata": {
    "execution": {
     "iopub.execute_input": "2021-05-04T13:00:45.580051Z",
     "iopub.status.busy": "2021-05-04T13:00:45.579457Z",
     "iopub.status.idle": "2021-05-04T13:00:45.582794Z",
     "shell.execute_reply": "2021-05-04T13:00:45.582237Z"
    },
    "id": "DKDrQp2sap6e",
    "papermill": {
     "duration": 0.072177,
     "end_time": "2021-05-04T13:00:45.582920",
     "exception": false,
     "start_time": "2021-05-04T13:00:45.510743",
     "status": "completed"
    },
    "scrolled": true,
    "tags": []
   },
   "outputs": [],
   "source": [
    "#sns._____(data=stroke, x=\"_____\", y=\"_____\", hue=\"_____\")"
   ]
  },
  {
   "cell_type": "code",
   "execution_count": 27,
   "id": "faced-citation",
   "metadata": {
    "execution": {
     "iopub.execute_input": "2021-05-04T13:00:45.716522Z",
     "iopub.status.busy": "2021-05-04T13:00:45.715789Z",
     "iopub.status.idle": "2021-05-04T13:00:45.718771Z",
     "shell.execute_reply": "2021-05-04T13:00:45.718199Z"
    },
    "id": "XQEwyJpIap6e",
    "papermill": {
     "duration": 0.071013,
     "end_time": "2021-05-04T13:00:45.718899",
     "exception": false,
     "start_time": "2021-05-04T13:00:45.647886",
     "status": "completed"
    },
    "tags": []
   },
   "outputs": [],
   "source": [
    "#sns._____(data=stroke, x=\"_____\", y=\"_____\")"
   ]
  },
  {
   "cell_type": "code",
   "execution_count": 28,
   "id": "present-airfare",
   "metadata": {
    "execution": {
     "iopub.execute_input": "2021-05-04T13:00:45.853625Z",
     "iopub.status.busy": "2021-05-04T13:00:45.852888Z",
     "iopub.status.idle": "2021-05-04T13:00:45.856462Z",
     "shell.execute_reply": "2021-05-04T13:00:45.855916Z"
    },
    "id": "4g_vRjruap6f",
    "papermill": {
     "duration": 0.072843,
     "end_time": "2021-05-04T13:00:45.856592",
     "exception": false,
     "start_time": "2021-05-04T13:00:45.783749",
     "status": "completed"
    },
    "tags": []
   },
   "outputs": [],
   "source": [
    "#sns._____(data=stroke, x=\"_____\", y=\"_____\")"
   ]
  },
  {
   "cell_type": "markdown",
   "id": "aggressive-scottish",
   "metadata": {
    "id": "ONem3Rjaap6f",
    "papermill": {
     "duration": 0.065652,
     "end_time": "2021-05-04T13:00:45.987822",
     "exception": false,
     "start_time": "2021-05-04T13:00:45.922170",
     "status": "completed"
    },
    "tags": []
   },
   "source": [
    "## tips | lmplot | total_bill vs tip - day"
   ]
  },
  {
   "cell_type": "code",
   "execution_count": 29,
   "id": "alleged-advertiser",
   "metadata": {
    "execution": {
     "iopub.execute_input": "2021-05-04T13:00:46.124285Z",
     "iopub.status.busy": "2021-05-04T13:00:46.123600Z",
     "iopub.status.idle": "2021-05-04T13:00:46.126084Z",
     "shell.execute_reply": "2021-05-04T13:00:46.126673Z"
    },
    "id": "gbLAeY5Jap6f",
    "papermill": {
     "duration": 0.073024,
     "end_time": "2021-05-04T13:00:46.126829",
     "exception": false,
     "start_time": "2021-05-04T13:00:46.053805",
     "status": "completed"
    },
    "tags": []
   },
   "outputs": [],
   "source": [
    "#sns._____(data=tips, x=\"_____\", y=\"_____\", hue=\"_____\")"
   ]
  },
  {
   "cell_type": "markdown",
   "id": "stone-republic",
   "metadata": {
    "id": "iv1xarS7ap6g",
    "papermill": {
     "duration": 0.065659,
     "end_time": "2021-05-04T13:00:46.258343",
     "exception": false,
     "start_time": "2021-05-04T13:00:46.192684",
     "status": "completed"
    },
    "tags": []
   },
   "source": [
    "## tips | lmplot | total_bill vs tip"
   ]
  },
  {
   "cell_type": "code",
   "execution_count": 30,
   "id": "complete-velvet",
   "metadata": {
    "execution": {
     "iopub.execute_input": "2021-05-04T13:00:46.394036Z",
     "iopub.status.busy": "2021-05-04T13:00:46.393468Z",
     "iopub.status.idle": "2021-05-04T13:00:46.396615Z",
     "shell.execute_reply": "2021-05-04T13:00:46.396008Z"
    },
    "id": "gG9dnVvEap6g",
    "papermill": {
     "duration": 0.072861,
     "end_time": "2021-05-04T13:00:46.396742",
     "exception": false,
     "start_time": "2021-05-04T13:00:46.323881",
     "status": "completed"
    },
    "tags": []
   },
   "outputs": [],
   "source": [
    "#sns._____(data=tips, x=\"_____\", y=\"_____\")"
   ]
  },
  {
   "cell_type": "markdown",
   "id": "blessed-necklace",
   "metadata": {
    "id": "A4X1BlSMap6g",
    "papermill": {
     "duration": 0.065938,
     "end_time": "2021-05-04T13:00:46.528440",
     "exception": false,
     "start_time": "2021-05-04T13:00:46.462502",
     "status": "completed"
    },
    "tags": []
   },
   "source": [
    "## tips | residplot | total_bill vs tip"
   ]
  },
  {
   "cell_type": "code",
   "execution_count": 31,
   "id": "stupid-findings",
   "metadata": {
    "execution": {
     "iopub.execute_input": "2021-05-04T13:00:46.664978Z",
     "iopub.status.busy": "2021-05-04T13:00:46.664175Z",
     "iopub.status.idle": "2021-05-04T13:00:46.667026Z",
     "shell.execute_reply": "2021-05-04T13:00:46.666490Z"
    },
    "id": "oOlIZLEfap6h",
    "papermill": {
     "duration": 0.073152,
     "end_time": "2021-05-04T13:00:46.667149",
     "exception": false,
     "start_time": "2021-05-04T13:00:46.593997",
     "status": "completed"
    },
    "tags": []
   },
   "outputs": [],
   "source": [
    "#sns._____(data=tips, x=\"_____\", y=\"_____\")"
   ]
  },
  {
   "cell_type": "markdown",
   "id": "rotary-basketball",
   "metadata": {
    "id": "PDrmIwppap6h",
    "papermill": {
     "duration": 0.065753,
     "end_time": "2021-05-04T13:00:46.798720",
     "exception": false,
     "start_time": "2021-05-04T13:00:46.732967",
     "status": "completed"
    },
    "tags": []
   },
   "source": [
    "## insurance | lmplot | age vs charges   -  smoker"
   ]
  },
  {
   "cell_type": "code",
   "execution_count": 32,
   "id": "sitting-saying",
   "metadata": {
    "execution": {
     "iopub.execute_input": "2021-05-04T13:00:46.935100Z",
     "iopub.status.busy": "2021-05-04T13:00:46.934549Z",
     "iopub.status.idle": "2021-05-04T13:00:46.939028Z",
     "shell.execute_reply": "2021-05-04T13:00:46.938438Z"
    },
    "id": "777rMRtWap6h",
    "papermill": {
     "duration": 0.073542,
     "end_time": "2021-05-04T13:00:46.939164",
     "exception": false,
     "start_time": "2021-05-04T13:00:46.865622",
     "status": "completed"
    },
    "scrolled": true,
    "tags": []
   },
   "outputs": [],
   "source": [
    "#sns._____(data=insurance, x=\"_____\", y=\"_____\", hue=\"_____\")"
   ]
  },
  {
   "cell_type": "markdown",
   "id": "legislative-carpet",
   "metadata": {
    "id": "zIHC0qiIap6h",
    "papermill": {
     "duration": 0.066325,
     "end_time": "2021-05-04T13:00:47.071212",
     "exception": false,
     "start_time": "2021-05-04T13:00:47.004887",
     "status": "completed"
    },
    "tags": []
   },
   "source": [
    "## insurance | regplot | age vs charges"
   ]
  },
  {
   "cell_type": "code",
   "execution_count": 33,
   "id": "stunning-claim",
   "metadata": {
    "execution": {
     "iopub.execute_input": "2021-05-04T13:00:47.208561Z",
     "iopub.status.busy": "2021-05-04T13:00:47.207725Z",
     "iopub.status.idle": "2021-05-04T13:00:47.210506Z",
     "shell.execute_reply": "2021-05-04T13:00:47.209882Z"
    },
    "id": "2W6eSrrKap6i",
    "papermill": {
     "duration": 0.073238,
     "end_time": "2021-05-04T13:00:47.210651",
     "exception": false,
     "start_time": "2021-05-04T13:00:47.137413",
     "status": "completed"
    },
    "scrolled": true,
    "tags": []
   },
   "outputs": [],
   "source": [
    "#sns._____(data=insurance, x=\"_____\", y=\"_____\")"
   ]
  },
  {
   "cell_type": "markdown",
   "id": "duplicate-emission",
   "metadata": {
    "id": "7uze0Kawap6i",
    "papermill": {
     "duration": 0.065875,
     "end_time": "2021-05-04T13:00:47.342747",
     "exception": false,
     "start_time": "2021-05-04T13:00:47.276872",
     "status": "completed"
    },
    "tags": []
   },
   "source": [
    "## insurance | residplot | age vs charges"
   ]
  },
  {
   "cell_type": "code",
   "execution_count": 34,
   "id": "infinite-tomato",
   "metadata": {
    "execution": {
     "iopub.execute_input": "2021-05-04T13:00:47.478954Z",
     "iopub.status.busy": "2021-05-04T13:00:47.478012Z",
     "iopub.status.idle": "2021-05-04T13:00:47.481425Z",
     "shell.execute_reply": "2021-05-04T13:00:47.481888Z"
    },
    "id": "g1GWLWpQap6i",
    "papermill": {
     "duration": 0.073024,
     "end_time": "2021-05-04T13:00:47.482041",
     "exception": false,
     "start_time": "2021-05-04T13:00:47.409017",
     "status": "completed"
    },
    "tags": []
   },
   "outputs": [],
   "source": [
    "#sns._____(data=insurance, x=\"_____\", y=\"_____\")"
   ]
  },
  {
   "cell_type": "markdown",
   "id": "contemporary-absolute",
   "metadata": {
    "id": "iKrBuC9fap6i",
    "papermill": {
     "duration": 0.065339,
     "end_time": "2021-05-04T13:00:47.613728",
     "exception": false,
     "start_time": "2021-05-04T13:00:47.548389",
     "status": "completed"
    },
    "tags": []
   },
   "source": [
    "# MATRIX PLOTS (table)"
   ]
  },
  {
   "cell_type": "markdown",
   "id": "charming-reminder",
   "metadata": {
    "id": "wUMDzwZgap6j",
    "papermill": {
     "duration": 0.065479,
     "end_time": "2021-05-04T13:00:47.745619",
     "exception": false,
     "start_time": "2021-05-04T13:00:47.680140",
     "status": "completed"
    },
    "tags": []
   },
   "source": [
    "## bank | heatmap "
   ]
  },
  {
   "cell_type": "code",
   "execution_count": 35,
   "id": "collected-vegetarian",
   "metadata": {
    "execution": {
     "iopub.execute_input": "2021-05-04T13:00:47.885456Z",
     "iopub.status.busy": "2021-05-04T13:00:47.884576Z",
     "iopub.status.idle": "2021-05-04T13:00:47.887826Z",
     "shell.execute_reply": "2021-05-04T13:00:47.888290Z"
    },
    "id": "RJBXJ7Yuap6j",
    "papermill": {
     "duration": 0.075096,
     "end_time": "2021-05-04T13:00:47.888473",
     "exception": false,
     "start_time": "2021-05-04T13:00:47.813377",
     "status": "completed"
    },
    "scrolled": true,
    "tags": []
   },
   "outputs": [],
   "source": [
    "#ax = plt.subplots(figsize=(12, 5));\n",
    "#ax = sns.heatmap(_____.corr(), annot = True) ;"
   ]
  },
  {
   "cell_type": "markdown",
   "id": "white-animation",
   "metadata": {
    "id": "TwvWMF-Rap6j",
    "papermill": {
     "duration": 0.065488,
     "end_time": "2021-05-04T13:00:48.019996",
     "exception": false,
     "start_time": "2021-05-04T13:00:47.954508",
     "status": "completed"
    },
    "tags": []
   },
   "source": [
    "## stroke | heatmap "
   ]
  },
  {
   "cell_type": "code",
   "execution_count": 36,
   "id": "imported-intention",
   "metadata": {
    "execution": {
     "iopub.execute_input": "2021-05-04T13:00:48.155814Z",
     "iopub.status.busy": "2021-05-04T13:00:48.154933Z",
     "iopub.status.idle": "2021-05-04T13:00:48.158091Z",
     "shell.execute_reply": "2021-05-04T13:00:48.158591Z"
    },
    "id": "LF7yLiEuap6j",
    "papermill": {
     "duration": 0.07272,
     "end_time": "2021-05-04T13:00:48.158745",
     "exception": false,
     "start_time": "2021-05-04T13:00:48.086025",
     "status": "completed"
    },
    "tags": []
   },
   "outputs": [],
   "source": [
    "#ax = plt.subplots(figsize=(16, 8));\n",
    "#ax = sns.heatmap(_____.corr(), annot = True) ;"
   ]
  },
  {
   "cell_type": "markdown",
   "id": "north-share",
   "metadata": {
    "id": "x7nrrYVFap6j",
    "papermill": {
     "duration": 0.066766,
     "end_time": "2021-05-04T13:00:48.292143",
     "exception": false,
     "start_time": "2021-05-04T13:00:48.225377",
     "status": "completed"
    },
    "tags": []
   },
   "source": [
    "## telco | heatmap "
   ]
  },
  {
   "cell_type": "code",
   "execution_count": 37,
   "id": "independent-panama",
   "metadata": {
    "execution": {
     "iopub.execute_input": "2021-05-04T13:00:48.428545Z",
     "iopub.status.busy": "2021-05-04T13:00:48.427565Z",
     "iopub.status.idle": "2021-05-04T13:00:48.431096Z",
     "shell.execute_reply": "2021-05-04T13:00:48.431552Z"
    },
    "id": "Whw6pLgBap6k",
    "papermill": {
     "duration": 0.073037,
     "end_time": "2021-05-04T13:00:48.431707",
     "exception": false,
     "start_time": "2021-05-04T13:00:48.358670",
     "status": "completed"
    },
    "tags": []
   },
   "outputs": [],
   "source": [
    "#ax = plt.subplots(figsize=(16, 8));\n",
    "#ax = sns.heatmap(_____.corr(), annot = True) ;"
   ]
  },
  {
   "cell_type": "markdown",
   "id": "polyphonic-senate",
   "metadata": {
    "id": "YhaTBFt5ap6k",
    "papermill": {
     "duration": 0.066471,
     "end_time": "2021-05-04T13:00:48.564923",
     "exception": false,
     "start_time": "2021-05-04T13:00:48.498452",
     "status": "completed"
    },
    "tags": []
   },
   "source": [
    "## house | heatmap "
   ]
  },
  {
   "cell_type": "code",
   "execution_count": 38,
   "id": "freelance-coordination",
   "metadata": {
    "execution": {
     "iopub.execute_input": "2021-05-04T13:00:48.702465Z",
     "iopub.status.busy": "2021-05-04T13:00:48.701532Z",
     "iopub.status.idle": "2021-05-04T13:00:48.704867Z",
     "shell.execute_reply": "2021-05-04T13:00:48.705394Z"
    },
    "id": "ufwQYeNOap6k",
    "papermill": {
     "duration": 0.074366,
     "end_time": "2021-05-04T13:00:48.705559",
     "exception": false,
     "start_time": "2021-05-04T13:00:48.631193",
     "status": "completed"
    },
    "tags": []
   },
   "outputs": [],
   "source": [
    "#ax = plt.subplots(figsize=(16, 8));\n",
    "#ax = sns.heatmap(_____.corr(), annot = True) ;"
   ]
  },
  {
   "cell_type": "markdown",
   "id": "useful-lover",
   "metadata": {
    "id": "_d4-GpnOap6k",
    "papermill": {
     "duration": 0.066567,
     "end_time": "2021-05-04T13:00:48.838921",
     "exception": false,
     "start_time": "2021-05-04T13:00:48.772354",
     "status": "completed"
    },
    "tags": []
   },
   "source": [
    "## insurance | heatmap "
   ]
  },
  {
   "cell_type": "code",
   "execution_count": 39,
   "id": "median-completion",
   "metadata": {
    "execution": {
     "iopub.execute_input": "2021-05-04T13:00:48.976754Z",
     "iopub.status.busy": "2021-05-04T13:00:48.975789Z",
     "iopub.status.idle": "2021-05-04T13:00:48.979450Z",
     "shell.execute_reply": "2021-05-04T13:00:48.979909Z"
    },
    "id": "NTw8Dxpvap6l",
    "papermill": {
     "duration": 0.074496,
     "end_time": "2021-05-04T13:00:48.980064",
     "exception": false,
     "start_time": "2021-05-04T13:00:48.905568",
     "status": "completed"
    },
    "tags": []
   },
   "outputs": [],
   "source": [
    "#ax = plt.subplots(figsize=(16, 8));\n",
    "#ax = sns.heatmap(_____.corr(), annot = True) ;"
   ]
  },
  {
   "cell_type": "markdown",
   "id": "undefined-tsunami",
   "metadata": {
    "id": "PaFOFZDJap6l",
    "papermill": {
     "duration": 0.066065,
     "end_time": "2021-05-04T13:00:49.112829",
     "exception": false,
     "start_time": "2021-05-04T13:00:49.046764",
     "status": "completed"
    },
    "tags": []
   },
   "source": [
    "## bank | clustermap "
   ]
  },
  {
   "cell_type": "code",
   "execution_count": 40,
   "id": "stone-arkansas",
   "metadata": {
    "execution": {
     "iopub.execute_input": "2021-05-04T13:00:49.250772Z",
     "iopub.status.busy": "2021-05-04T13:00:49.249847Z",
     "iopub.status.idle": "2021-05-04T13:00:49.252755Z",
     "shell.execute_reply": "2021-05-04T13:00:49.252128Z"
    },
    "id": "207U_YUBap6l",
    "papermill": {
     "duration": 0.073333,
     "end_time": "2021-05-04T13:00:49.252882",
     "exception": false,
     "start_time": "2021-05-04T13:00:49.179549",
     "status": "completed"
    },
    "scrolled": true,
    "tags": []
   },
   "outputs": [],
   "source": [
    "#sns.clustermap(_____.corr(), annot = True) ;"
   ]
  },
  {
   "cell_type": "markdown",
   "id": "egyptian-commitment",
   "metadata": {
    "id": "qgVR72MVap6l",
    "papermill": {
     "duration": 0.066741,
     "end_time": "2021-05-04T13:00:49.386653",
     "exception": false,
     "start_time": "2021-05-04T13:00:49.319912",
     "status": "completed"
    },
    "tags": []
   },
   "source": [
    "## data = tips | plot = FacetGrid | x = total_bill | y = tip | row = sex | column = time "
   ]
  },
  {
   "cell_type": "code",
   "execution_count": 41,
   "id": "sudden-knife",
   "metadata": {
    "execution": {
     "iopub.execute_input": "2021-05-04T13:00:49.524931Z",
     "iopub.status.busy": "2021-05-04T13:00:49.524312Z",
     "iopub.status.idle": "2021-05-04T13:00:49.527331Z",
     "shell.execute_reply": "2021-05-04T13:00:49.526787Z"
    },
    "id": "-BdI9a0gap6l",
    "papermill": {
     "duration": 0.07368,
     "end_time": "2021-05-04T13:00:49.527468",
     "exception": false,
     "start_time": "2021-05-04T13:00:49.453788",
     "status": "completed"
    },
    "scrolled": true,
    "tags": []
   },
   "outputs": [],
   "source": [
    "#g = sns.FacetGrid(tips, col=\"_____\",  row=\"_____\")\n",
    "#g.map(sns.scatterplot, \"_____\", \"_____\")"
   ]
  },
  {
   "cell_type": "markdown",
   "id": "handled-raleigh",
   "metadata": {
    "id": "0kKKPshuap6m",
    "papermill": {
     "duration": 0.067205,
     "end_time": "2021-05-04T13:00:49.661741",
     "exception": false,
     "start_time": "2021-05-04T13:00:49.594536",
     "status": "completed"
    },
    "tags": []
   },
   "source": [
    "### data = insurance | plot = FacetGrid | x = age | y = charges | row = smoker | column = gender "
   ]
  },
  {
   "cell_type": "code",
   "execution_count": 42,
   "id": "accurate-kansas",
   "metadata": {
    "execution": {
     "iopub.execute_input": "2021-05-04T13:00:49.799537Z",
     "iopub.status.busy": "2021-05-04T13:00:49.798866Z",
     "iopub.status.idle": "2021-05-04T13:00:49.801180Z",
     "shell.execute_reply": "2021-05-04T13:00:49.801717Z"
    },
    "id": "eX3UD7qLap6m",
    "papermill": {
     "duration": 0.073173,
     "end_time": "2021-05-04T13:00:49.801872",
     "exception": false,
     "start_time": "2021-05-04T13:00:49.728699",
     "status": "completed"
    },
    "tags": []
   },
   "outputs": [],
   "source": [
    "#g = sns.FacetGrid(insurance, col=\"_____\",  row=\"_____\")\n",
    "#g.map(sns.scatterplot, \"_____\", \"_____\")"
   ]
  },
  {
   "cell_type": "markdown",
   "id": "minute-falls",
   "metadata": {
    "id": "9EdPaVRIap6m",
    "papermill": {
     "duration": 0.066004,
     "end_time": "2021-05-04T13:00:49.936672",
     "exception": false,
     "start_time": "2021-05-04T13:00:49.870668",
     "status": "completed"
    },
    "tags": []
   },
   "source": [
    "## data = stroke | plot = FacetGrid | x = age | y = bmi | row = stroke | column = ever_married "
   ]
  },
  {
   "cell_type": "code",
   "execution_count": 43,
   "id": "seven-craps",
   "metadata": {
    "execution": {
     "iopub.execute_input": "2021-05-04T13:00:50.074096Z",
     "iopub.status.busy": "2021-05-04T13:00:50.073524Z",
     "iopub.status.idle": "2021-05-04T13:00:50.076443Z",
     "shell.execute_reply": "2021-05-04T13:00:50.076915Z"
    },
    "id": "1EkX-T2Eap6m",
    "papermill": {
     "duration": 0.073404,
     "end_time": "2021-05-04T13:00:50.077066",
     "exception": false,
     "start_time": "2021-05-04T13:00:50.003662",
     "status": "completed"
    },
    "tags": []
   },
   "outputs": [],
   "source": [
    "#g = sns.FacetGrid(stroke, col=\"_____\",  row=\"_____\")\n",
    "#g.map(sns.scatterplot, \"_____\", \"_____\")"
   ]
  },
  {
   "cell_type": "markdown",
   "id": "fitting-street",
   "metadata": {
    "id": "fV2s96pnap6n",
    "papermill": {
     "duration": 0.066788,
     "end_time": "2021-05-04T13:00:50.210756",
     "exception": false,
     "start_time": "2021-05-04T13:00:50.143968",
     "status": "completed"
    },
    "tags": []
   },
   "source": [
    "## data = stroke | plot = jointplot | x = age | y = bmi"
   ]
  },
  {
   "cell_type": "code",
   "execution_count": 44,
   "id": "logical-taiwan",
   "metadata": {
    "execution": {
     "iopub.execute_input": "2021-05-04T13:00:50.348538Z",
     "iopub.status.busy": "2021-05-04T13:00:50.347868Z",
     "iopub.status.idle": "2021-05-04T13:00:50.350743Z",
     "shell.execute_reply": "2021-05-04T13:00:50.351220Z"
    },
    "id": "u_2pEtMQap6n",
    "papermill": {
     "duration": 0.073307,
     "end_time": "2021-05-04T13:00:50.351450",
     "exception": false,
     "start_time": "2021-05-04T13:00:50.278143",
     "status": "completed"
    },
    "scrolled": true,
    "tags": []
   },
   "outputs": [],
   "source": [
    "#sns._____(data=stroke, x=\"_____\", y=\"_____\")"
   ]
  },
  {
   "cell_type": "markdown",
   "id": "future-counter",
   "metadata": {
    "id": "Wjia2VBLap6n",
    "papermill": {
     "duration": 0.067076,
     "end_time": "2021-05-04T13:00:50.485826",
     "exception": false,
     "start_time": "2021-05-04T13:00:50.418750",
     "status": "completed"
    },
    "tags": []
   },
   "source": [
    "## data = insurance | plot = jointplot | x = age | y = charges"
   ]
  },
  {
   "cell_type": "code",
   "execution_count": 45,
   "id": "cordless-evolution",
   "metadata": {
    "execution": {
     "iopub.execute_input": "2021-05-04T13:00:50.623668Z",
     "iopub.status.busy": "2021-05-04T13:00:50.623003Z",
     "iopub.status.idle": "2021-05-04T13:00:50.625933Z",
     "shell.execute_reply": "2021-05-04T13:00:50.626468Z"
    },
    "id": "R7B_w2Wvap6n",
    "papermill": {
     "duration": 0.073326,
     "end_time": "2021-05-04T13:00:50.626630",
     "exception": false,
     "start_time": "2021-05-04T13:00:50.553304",
     "status": "completed"
    },
    "scrolled": true,
    "tags": []
   },
   "outputs": [],
   "source": [
    "#sns._____(data=insurance, x=\"_____\", y=\"_____\")"
   ]
  },
  {
   "cell_type": "markdown",
   "id": "important-exhibition",
   "metadata": {
    "id": "55OQBmsQap6o",
    "papermill": {
     "duration": 0.067454,
     "end_time": "2021-05-04T13:00:50.762613",
     "exception": false,
     "start_time": "2021-05-04T13:00:50.695159",
     "status": "completed"
    },
    "tags": []
   },
   "source": [
    "## data = bank | plot = pairplot | x = 'CreditScore','Age','Tenure','Exited' | hue = Exited"
   ]
  },
  {
   "cell_type": "code",
   "execution_count": 46,
   "id": "vertical-helping",
   "metadata": {
    "execution": {
     "iopub.execute_input": "2021-05-04T13:00:50.930069Z",
     "iopub.status.busy": "2021-05-04T13:00:50.929432Z",
     "iopub.status.idle": "2021-05-04T13:00:50.932456Z",
     "shell.execute_reply": "2021-05-04T13:00:50.932891Z"
    },
    "id": "6y9DqH9uap6o",
    "papermill": {
     "duration": 0.096289,
     "end_time": "2021-05-04T13:00:50.933080",
     "exception": false,
     "start_time": "2021-05-04T13:00:50.836791",
     "status": "completed"
    },
    "tags": []
   },
   "outputs": [],
   "source": [
    "#sns._____(data=bank[['_____','_____','_____','_____']],hue='_____',height=3, kind='scatter')"
   ]
  },
  {
   "cell_type": "markdown",
   "id": "celtic-daily",
   "metadata": {
    "id": "xbIwIAwhap6o",
    "papermill": {
     "duration": 0.067577,
     "end_time": "2021-05-04T13:00:51.070900",
     "exception": false,
     "start_time": "2021-05-04T13:00:51.003323",
     "status": "completed"
    },
    "tags": []
   },
   "source": [
    "### data = bank | plot = pairplot | x = 'Balance','NumOfProducts','HasCrCard','Exited' | hue = Exited"
   ]
  },
  {
   "cell_type": "code",
   "execution_count": 47,
   "id": "smaller-joyce",
   "metadata": {
    "execution": {
     "iopub.execute_input": "2021-05-04T13:00:51.209156Z",
     "iopub.status.busy": "2021-05-04T13:00:51.208531Z",
     "iopub.status.idle": "2021-05-04T13:00:51.211655Z",
     "shell.execute_reply": "2021-05-04T13:00:51.212131Z"
    },
    "id": "JMFX9FzRap6o",
    "papermill": {
     "duration": 0.073691,
     "end_time": "2021-05-04T13:00:51.212304",
     "exception": false,
     "start_time": "2021-05-04T13:00:51.138613",
     "status": "completed"
    },
    "tags": []
   },
   "outputs": [],
   "source": [
    "#sns.pairplot(data=bank[['Balance','NumOfProducts','HasCrCard','Exited']],hue='Exited',height=3, kind='scatter')"
   ]
  },
  {
   "cell_type": "markdown",
   "id": "periodic-divide",
   "metadata": {
    "id": "fMBODchHap6o",
    "papermill": {
     "duration": 0.066965,
     "end_time": "2021-05-04T13:00:51.346976",
     "exception": false,
     "start_time": "2021-05-04T13:00:51.280011",
     "status": "completed"
    },
    "tags": []
   },
   "source": [
    "### data = bank | plot = pairplot | x = 'IsActiveMember','EstimatedSalary','Exited' | hue = Exited"
   ]
  },
  {
   "cell_type": "code",
   "execution_count": 48,
   "id": "wired-awareness",
   "metadata": {
    "execution": {
     "iopub.execute_input": "2021-05-04T13:00:51.485455Z",
     "iopub.status.busy": "2021-05-04T13:00:51.484827Z",
     "iopub.status.idle": "2021-05-04T13:00:51.487825Z",
     "shell.execute_reply": "2021-05-04T13:00:51.488301Z"
    },
    "id": "XuOJXTXWap6p",
    "papermill": {
     "duration": 0.073844,
     "end_time": "2021-05-04T13:00:51.488446",
     "exception": false,
     "start_time": "2021-05-04T13:00:51.414602",
     "status": "completed"
    },
    "tags": []
   },
   "outputs": [],
   "source": [
    "#sns._____(data=bank[['_____','_____','_____']],hue='_____',height=3, kind='scatter')"
   ]
  },
  {
   "cell_type": "markdown",
   "id": "sharp-roman",
   "metadata": {
    "id": "LMzYyw2Fap6p",
    "papermill": {
     "duration": 0.067612,
     "end_time": "2021-05-04T13:00:51.624304",
     "exception": false,
     "start_time": "2021-05-04T13:00:51.556692",
     "status": "completed"
    },
    "tags": []
   },
   "source": [
    "### data = stroke | plot = pairplot | x = 'age','hypertension','heart_disease','stroke' | hue = stroke"
   ]
  },
  {
   "cell_type": "code",
   "execution_count": 49,
   "id": "responsible-carroll",
   "metadata": {
    "execution": {
     "iopub.execute_input": "2021-05-04T13:00:51.764476Z",
     "iopub.status.busy": "2021-05-04T13:00:51.763841Z",
     "iopub.status.idle": "2021-05-04T13:00:51.766789Z",
     "shell.execute_reply": "2021-05-04T13:00:51.767280Z"
    },
    "id": "Wt267Ty0ap6p",
    "papermill": {
     "duration": 0.074132,
     "end_time": "2021-05-04T13:00:51.767437",
     "exception": false,
     "start_time": "2021-05-04T13:00:51.693305",
     "status": "completed"
    },
    "tags": []
   },
   "outputs": [],
   "source": [
    "#sns._____(data=stroke[['_____','_____','_____','_____']],hue='_____',height=3, kind='scatter')"
   ]
  },
  {
   "cell_type": "markdown",
   "id": "enclosed-bangkok",
   "metadata": {
    "id": "VJ7k18f5ap6p",
    "papermill": {
     "duration": 0.069801,
     "end_time": "2021-05-04T13:00:51.917777",
     "exception": false,
     "start_time": "2021-05-04T13:00:51.847976",
     "status": "completed"
    },
    "tags": []
   },
   "source": [
    "### data = stroke | plot = pairplot | x = 'avg_glucose_level','bmi','stroke' | hue = stroke"
   ]
  },
  {
   "cell_type": "code",
   "execution_count": 50,
   "id": "impressed-scanner",
   "metadata": {
    "execution": {
     "iopub.execute_input": "2021-05-04T13:00:52.063388Z",
     "iopub.status.busy": "2021-05-04T13:00:52.062457Z",
     "iopub.status.idle": "2021-05-04T13:00:52.064919Z",
     "shell.execute_reply": "2021-05-04T13:00:52.065406Z"
    },
    "id": "q4EI_h4Vap6p",
    "papermill": {
     "duration": 0.077379,
     "end_time": "2021-05-04T13:00:52.065564",
     "exception": false,
     "start_time": "2021-05-04T13:00:51.988185",
     "status": "completed"
    },
    "tags": []
   },
   "outputs": [],
   "source": [
    "#sns._____(data=stroke[['_____','_____','_____']],hue='_____',height=3, kind='scatter')"
   ]
  },
  {
   "cell_type": "markdown",
   "id": "pacific-trust",
   "metadata": {
    "id": "ksncT1_Yap6q",
    "papermill": {
     "duration": 0.067678,
     "end_time": "2021-05-04T13:00:52.200997",
     "exception": false,
     "start_time": "2021-05-04T13:00:52.133319",
     "status": "completed"
    },
    "tags": []
   },
   "source": [
    "### data = stroke | plot = histplot | x = 'bmi' | hue = stroke"
   ]
  },
  {
   "cell_type": "code",
   "execution_count": 51,
   "id": "increased-blair",
   "metadata": {
    "execution": {
     "iopub.execute_input": "2021-05-04T13:00:52.342695Z",
     "iopub.status.busy": "2021-05-04T13:00:52.341817Z",
     "iopub.status.idle": "2021-05-04T13:00:52.345213Z",
     "shell.execute_reply": "2021-05-04T13:00:52.344636Z"
    },
    "id": "X-CbLNIiap6q",
    "papermill": {
     "duration": 0.075941,
     "end_time": "2021-05-04T13:00:52.345366",
     "exception": false,
     "start_time": "2021-05-04T13:00:52.269425",
     "status": "completed"
    },
    "tags": []
   },
   "outputs": [],
   "source": [
    "#sns._____(data=stroke, x=\"_____\", kde=True,hue='_____')"
   ]
  },
  {
   "cell_type": "markdown",
   "id": "nuclear-suspect",
   "metadata": {
    "id": "y4ZIjV3aap6q",
    "papermill": {
     "duration": 0.067191,
     "end_time": "2021-05-04T13:00:52.480699",
     "exception": false,
     "start_time": "2021-05-04T13:00:52.413508",
     "status": "completed"
    },
    "tags": []
   },
   "source": [
    "# SAMPLE DATASETS"
   ]
  },
  {
   "cell_type": "code",
   "execution_count": 52,
   "id": "paperback-mathematics",
   "metadata": {
    "execution": {
     "iopub.execute_input": "2021-05-04T13:00:52.621478Z",
     "iopub.status.busy": "2021-05-04T13:00:52.620605Z",
     "iopub.status.idle": "2021-05-04T13:00:52.623891Z",
     "shell.execute_reply": "2021-05-04T13:00:52.623288Z"
    },
    "id": "OmnElP2bap6q",
    "papermill": {
     "duration": 0.075007,
     "end_time": "2021-05-04T13:00:52.624014",
     "exception": false,
     "start_time": "2021-05-04T13:00:52.549007",
     "status": "completed"
    },
    "tags": []
   },
   "outputs": [],
   "source": [
    "#sns.get_dataset_names()"
   ]
  },
  {
   "cell_type": "code",
   "execution_count": 53,
   "id": "bacterial-immune",
   "metadata": {
    "execution": {
     "iopub.execute_input": "2021-05-04T13:00:52.765966Z",
     "iopub.status.busy": "2021-05-04T13:00:52.765128Z",
     "iopub.status.idle": "2021-05-04T13:00:52.768629Z",
     "shell.execute_reply": "2021-05-04T13:00:52.768113Z"
    },
    "id": "-3b_9yVoap6q",
    "papermill": {
     "duration": 0.075556,
     "end_time": "2021-05-04T13:00:52.768755",
     "exception": false,
     "start_time": "2021-05-04T13:00:52.693199",
     "status": "completed"
    },
    "tags": []
   },
   "outputs": [],
   "source": [
    "#anagrams = sns.load_dataset('anagrams')\n",
    "#anagrams.head()"
   ]
  },
  {
   "cell_type": "code",
   "execution_count": 54,
   "id": "numeric-equipment",
   "metadata": {
    "execution": {
     "iopub.execute_input": "2021-05-04T13:00:52.909886Z",
     "iopub.status.busy": "2021-05-04T13:00:52.909128Z",
     "iopub.status.idle": "2021-05-04T13:00:52.912329Z",
     "shell.execute_reply": "2021-05-04T13:00:52.911798Z"
    },
    "id": "a-NlpbRQap6r",
    "papermill": {
     "duration": 0.075853,
     "end_time": "2021-05-04T13:00:52.912524",
     "exception": false,
     "start_time": "2021-05-04T13:00:52.836671",
     "status": "completed"
    },
    "tags": []
   },
   "outputs": [],
   "source": [
    "#planets = sns.load_dataset('planets')\n",
    "#planets.head()"
   ]
  },
  {
   "cell_type": "code",
   "execution_count": 55,
   "id": "handed-debut",
   "metadata": {
    "execution": {
     "iopub.execute_input": "2021-05-04T13:00:53.053648Z",
     "iopub.status.busy": "2021-05-04T13:00:53.053005Z",
     "iopub.status.idle": "2021-05-04T13:00:53.056311Z",
     "shell.execute_reply": "2021-05-04T13:00:53.055826Z"
    },
    "id": "nHWVyLOZap6r",
    "papermill": {
     "duration": 0.075074,
     "end_time": "2021-05-04T13:00:53.056453",
     "exception": false,
     "start_time": "2021-05-04T13:00:52.981379",
     "status": "completed"
    },
    "tags": []
   },
   "outputs": [],
   "source": [
    "#titanic = sns.load_dataset('titanic')\n",
    "#titanic.head()"
   ]
  }
 ],
 "metadata": {
  "kernelspec": {
   "display_name": "Python 3 (ipykernel)",
   "language": "python",
   "name": "python3"
  },
  "language_info": {
   "codemirror_mode": {
    "name": "ipython",
    "version": 3
   },
   "file_extension": ".py",
   "mimetype": "text/x-python",
   "name": "python",
   "nbconvert_exporter": "python",
   "pygments_lexer": "ipython3",
   "version": "3.9.16"
  },
  "papermill": {
   "default_parameters": {},
   "duration": 23.999939,
   "end_time": "2021-05-04T13:00:54.691424",
   "environment_variables": {},
   "exception": null,
   "input_path": "__notebook__.ipynb",
   "output_path": "__notebook__.ipynb",
   "parameters": {},
   "start_time": "2021-05-04T13:00:30.691485",
   "version": "2.3.2"
  }
 },
 "nbformat": 4,
 "nbformat_minor": 5
}

{
 "cells": [
  {
   "cell_type": "code",
   "execution_count": 1,
   "id": "69430ae4",
   "metadata": {},
   "outputs": [],
   "source": [
    "## Data Analysis libraries\n",
    "\n",
    "import pandas as pd\n",
    "import numpy as np\n",
    "\n",
    "## Data Visualization libraries\n",
    "import matplotlib.pyplot as plt\n",
    "import seaborn as sns"
   ]
  },
  {
   "cell_type": "markdown",
   "id": "3dac802b",
   "metadata": {},
   "source": [
    "## NumPy Quiz Q3."
   ]
  },
  {
   "cell_type": "code",
   "execution_count": 2,
   "id": "aaabbf33",
   "metadata": {},
   "outputs": [
    {
     "data": {
      "text/plain": [
       "array(['25', '35.75', '48', '59', '73', 'Python'], dtype='<U32')"
      ]
     },
     "execution_count": 2,
     "metadata": {},
     "output_type": "execute_result"
    }
   ],
   "source": [
    "np.array([25, 35.75, 48, 59, 73, 'Python'])"
   ]
  },
  {
   "cell_type": "markdown",
   "id": "63932bd6",
   "metadata": {},
   "source": [
    "### Creating 2 D arrays"
   ]
  },
  {
   "cell_type": "code",
   "execution_count": 3,
   "id": "f033d8f3",
   "metadata": {},
   "outputs": [
    {
     "data": {
      "text/plain": [
       "[[10, 20, 30, 40], [50, 60, 70, 80]]"
      ]
     },
     "execution_count": 3,
     "metadata": {},
     "output_type": "execute_result"
    }
   ],
   "source": [
    "li = [[10, 20, 30, 40], [50, 60, 70, 80]]\n",
    "li"
   ]
  },
  {
   "cell_type": "code",
   "execution_count": 4,
   "id": "9bf04e91",
   "metadata": {},
   "outputs": [
    {
     "data": {
      "text/plain": [
       "array([[10, 20, 30, 40],\n",
       "       [50, 60, 70, 80]])"
      ]
     },
     "execution_count": 4,
     "metadata": {},
     "output_type": "execute_result"
    }
   ],
   "source": [
    "arr1 = np.array(li)\n",
    "arr1"
   ]
  },
  {
   "cell_type": "code",
   "execution_count": 6,
   "id": "c8f321a8",
   "metadata": {},
   "outputs": [
    {
     "data": {
      "text/plain": [
       "2"
      ]
     },
     "execution_count": 6,
     "metadata": {},
     "output_type": "execute_result"
    }
   ],
   "source": [
    "arr1.ndim    ## ndim means no of dimensions"
   ]
  },
  {
   "cell_type": "code",
   "execution_count": 7,
   "id": "837e6b08",
   "metadata": {},
   "outputs": [
    {
     "data": {
      "text/plain": [
       "[[1, 2, 3], [4, 5, 6], [7, 8, 9]]"
      ]
     },
     "execution_count": 7,
     "metadata": {},
     "output_type": "execute_result"
    }
   ],
   "source": [
    "l2 = [[1,2,3], [4,5,6], [7,8,9]]\n",
    "l2"
   ]
  },
  {
   "cell_type": "code",
   "execution_count": 8,
   "id": "1c6b80c4",
   "metadata": {},
   "outputs": [
    {
     "data": {
      "text/plain": [
       "array([[1, 2, 3],\n",
       "       [4, 5, 6],\n",
       "       [7, 8, 9]])"
      ]
     },
     "execution_count": 8,
     "metadata": {},
     "output_type": "execute_result"
    }
   ],
   "source": [
    "arr2 = np.array(l2)\n",
    "arr2"
   ]
  },
  {
   "cell_type": "markdown",
   "id": "15f7c5da",
   "metadata": {},
   "source": [
    "### Method 1 : Creating a 2D array from a 1D array"
   ]
  },
  {
   "cell_type": "code",
   "execution_count": 9,
   "id": "38497d36",
   "metadata": {},
   "outputs": [],
   "source": [
    "## Step 1 : Create a 1 Dimensional array\n",
    "## Step 2 : Apply some function on the 1D array to convert it into 2D array\n",
    "## Step 3 : Display and verify the 2D array"
   ]
  },
  {
   "cell_type": "code",
   "execution_count": 15,
   "id": "5ae1899d",
   "metadata": {},
   "outputs": [
    {
     "data": {
      "text/plain": [
       "array([10, 11, 12, 13, 14, 15, 16, 17, 18, 19, 20, 21])"
      ]
     },
     "execution_count": 15,
     "metadata": {},
     "output_type": "execute_result"
    }
   ],
   "source": [
    "arr3 = np.arange(10, 22)\n",
    "arr3"
   ]
  },
  {
   "cell_type": "code",
   "execution_count": 16,
   "id": "5afe9a4f",
   "metadata": {},
   "outputs": [
    {
     "data": {
      "text/plain": [
       "1"
      ]
     },
     "execution_count": 16,
     "metadata": {},
     "output_type": "execute_result"
    }
   ],
   "source": [
    "arr3.ndim"
   ]
  },
  {
   "cell_type": "code",
   "execution_count": 19,
   "id": "7012455e",
   "metadata": {},
   "outputs": [
    {
     "data": {
      "text/plain": [
       "array([[10, 11, 12],\n",
       "       [13, 14, 15],\n",
       "       [16, 17, 18],\n",
       "       [19, 20, 21]])"
      ]
     },
     "execution_count": 19,
     "metadata": {},
     "output_type": "execute_result"
    }
   ],
   "source": [
    "## Reshape function to convert 1D array into 2D array\n",
    "## <array_name>.reshape(total_rows, total columns)\n",
    "\n",
    "arr3_reshaped = arr3.reshape(4, 3)\n",
    "arr3_reshaped"
   ]
  },
  {
   "cell_type": "code",
   "execution_count": 20,
   "id": "69406aeb",
   "metadata": {},
   "outputs": [
    {
     "data": {
      "text/plain": [
       "2"
      ]
     },
     "execution_count": 20,
     "metadata": {},
     "output_type": "execute_result"
    }
   ],
   "source": [
    "arr3_reshaped.ndim"
   ]
  },
  {
   "cell_type": "markdown",
   "id": "3823060e",
   "metadata": {},
   "source": [
    "### Method 2 : Creating a 2D array from a 1D array"
   ]
  },
  {
   "cell_type": "code",
   "execution_count": 33,
   "id": "c371413f",
   "metadata": {},
   "outputs": [],
   "source": [
    "## Step 1 : Create a 1 Dimensional array\n",
    "## Step 2 : Apply some function on the 1D array to convert it into 2D array\n",
    "## Step 3 : Display and verify the 2D array"
   ]
  },
  {
   "cell_type": "code",
   "execution_count": 34,
   "id": "379e7569",
   "metadata": {},
   "outputs": [
    {
     "data": {
      "text/plain": [
       "array([50, 51, 52, 53, 54, 55, 56, 57, 58, 59, 60, 61, 62, 63, 64, 65])"
      ]
     },
     "execution_count": 34,
     "metadata": {},
     "output_type": "execute_result"
    }
   ],
   "source": [
    "arr5 = np.arange(50, 66)\n",
    "arr5"
   ]
  },
  {
   "cell_type": "code",
   "execution_count": 35,
   "id": "cd76edf5",
   "metadata": {},
   "outputs": [
    {
     "data": {
      "text/plain": [
       "1"
      ]
     },
     "execution_count": 35,
     "metadata": {},
     "output_type": "execute_result"
    }
   ],
   "source": [
    "arr5.ndim"
   ]
  },
  {
   "cell_type": "code",
   "execution_count": 45,
   "id": "aecffd77",
   "metadata": {},
   "outputs": [
    {
     "data": {
      "text/plain": [
       "array([[50, 51, 52, 53],\n",
       "       [54, 55, 56, 57],\n",
       "       [58, 59, 60, 61],\n",
       "       [62, 63, 64, 65]])"
      ]
     },
     "execution_count": 45,
     "metadata": {},
     "output_type": "execute_result"
    }
   ],
   "source": [
    "## Use Resize function\n",
    "\n",
    "arr5_resized = np.resize(arr5, (4, 4))\n",
    "arr5_resized"
   ]
  },
  {
   "cell_type": "markdown",
   "id": "018d0fe6",
   "metadata": {},
   "source": [
    "#### Note: Reshape and Resize are used to convert 1D array into 2D array"
   ]
  },
  {
   "cell_type": "markdown",
   "id": "498ce6a6",
   "metadata": {},
   "source": [
    "### Method 1 :  Create a 1D array from a 2D array"
   ]
  },
  {
   "cell_type": "code",
   "execution_count": 22,
   "id": "91f6300f",
   "metadata": {},
   "outputs": [],
   "source": [
    "## Step 1 : Create a 2D array\n",
    "## Step 2 : Apply some function to convert a 2D array into 1D array\n",
    "## Step 3 : Display the 1D array and verify"
   ]
  },
  {
   "cell_type": "code",
   "execution_count": 21,
   "id": "61c17fc4",
   "metadata": {},
   "outputs": [
    {
     "data": {
      "text/plain": [
       "array([[ 3,  4,  5],\n",
       "       [ 6,  7,  8],\n",
       "       [ 9, 10, 11],\n",
       "       [12, 13, 14]])"
      ]
     },
     "execution_count": 21,
     "metadata": {},
     "output_type": "execute_result"
    }
   ],
   "source": [
    "arr4 = np.arange(3,15).reshape(4,3)\n",
    "arr4"
   ]
  },
  {
   "cell_type": "code",
   "execution_count": 26,
   "id": "23501c92",
   "metadata": {},
   "outputs": [
    {
     "data": {
      "text/plain": [
       "array([ 3,  4,  5,  6,  7,  8,  9, 10, 11, 12, 13, 14])"
      ]
     },
     "execution_count": 26,
     "metadata": {},
     "output_type": "execute_result"
    }
   ],
   "source": [
    "## Flatten function to convert 2D array into 1D array\n",
    "\n",
    "arr4_flattened = arr4.flatten()\n",
    "arr4_flattened"
   ]
  },
  {
   "cell_type": "code",
   "execution_count": 27,
   "id": "9c75d68a",
   "metadata": {},
   "outputs": [
    {
     "data": {
      "text/plain": [
       "1"
      ]
     },
     "execution_count": 27,
     "metadata": {},
     "output_type": "execute_result"
    }
   ],
   "source": [
    "arr4_flattened.ndim"
   ]
  },
  {
   "cell_type": "markdown",
   "id": "14a70007",
   "metadata": {},
   "source": [
    "### Method 2 : Converting a 2D array into 1D array"
   ]
  },
  {
   "cell_type": "code",
   "execution_count": 28,
   "id": "a6f70861",
   "metadata": {},
   "outputs": [],
   "source": [
    "## Step 1 : Create a 2D array\n",
    "## Step 2 : Apply some function to convert 2D array into 1D array\n",
    "## Step 3 : Display and verify the 1D array"
   ]
  },
  {
   "cell_type": "code",
   "execution_count": 29,
   "id": "7db1b706",
   "metadata": {},
   "outputs": [
    {
     "data": {
      "text/plain": [
       "array([[ 3,  4,  5],\n",
       "       [ 6,  7,  8],\n",
       "       [ 9, 10, 11],\n",
       "       [12, 13, 14]])"
      ]
     },
     "execution_count": 29,
     "metadata": {},
     "output_type": "execute_result"
    }
   ],
   "source": [
    "arr4 = np.arange(3, 15).reshape(4, 3)\n",
    "arr4"
   ]
  },
  {
   "cell_type": "code",
   "execution_count": 30,
   "id": "48501f10",
   "metadata": {},
   "outputs": [
    {
     "data": {
      "text/plain": [
       "2"
      ]
     },
     "execution_count": 30,
     "metadata": {},
     "output_type": "execute_result"
    }
   ],
   "source": [
    "arr4.ndim"
   ]
  },
  {
   "cell_type": "code",
   "execution_count": 31,
   "id": "d4f4e031",
   "metadata": {},
   "outputs": [
    {
     "data": {
      "text/plain": [
       "array([ 3,  4,  5,  6,  7,  8,  9, 10, 11, 12, 13, 14])"
      ]
     },
     "execution_count": 31,
     "metadata": {},
     "output_type": "execute_result"
    }
   ],
   "source": [
    "## Apply Ravel Function for converting 2D array to 1D array\n",
    "\n",
    "arr4_raveled = arr4.ravel()\n",
    "arr4_raveled"
   ]
  },
  {
   "cell_type": "code",
   "execution_count": 32,
   "id": "54970ae6",
   "metadata": {},
   "outputs": [
    {
     "data": {
      "text/plain": [
       "1"
      ]
     },
     "execution_count": 32,
     "metadata": {},
     "output_type": "execute_result"
    }
   ],
   "source": [
    "arr4_raveled.ndim"
   ]
  },
  {
   "cell_type": "markdown",
   "id": "fd2f34dc",
   "metadata": {},
   "source": [
    "#### Note : Flatten and Ravel functions are used for converting a 2D array into 1D array"
   ]
  },
  {
   "cell_type": "markdown",
   "id": "bd013077",
   "metadata": {},
   "source": [
    "## Swap Rows and Columns of a 2D array"
   ]
  },
  {
   "cell_type": "code",
   "execution_count": 46,
   "id": "6cb2927f",
   "metadata": {},
   "outputs": [
    {
     "data": {
      "text/plain": [
       "array([[0, 1, 2],\n",
       "       [3, 4, 5],\n",
       "       [6, 7, 8]])"
      ]
     },
     "execution_count": 46,
     "metadata": {},
     "output_type": "execute_result"
    }
   ],
   "source": [
    "arr6 = np.arange(9).reshape(3, 3)\n",
    "arr6"
   ]
  },
  {
   "cell_type": "code",
   "execution_count": 47,
   "id": "ea1a9ddf",
   "metadata": {},
   "outputs": [
    {
     "data": {
      "text/plain": [
       "array([[0, 3, 6],\n",
       "       [1, 4, 7],\n",
       "       [2, 5, 8]])"
      ]
     },
     "execution_count": 47,
     "metadata": {},
     "output_type": "execute_result"
    }
   ],
   "source": [
    "arr6.T"
   ]
  },
  {
   "cell_type": "markdown",
   "id": "f9f3be09",
   "metadata": {},
   "source": [
    "## Concatenating the arrays"
   ]
  },
  {
   "cell_type": "code",
   "execution_count": 48,
   "id": "3c8788f6",
   "metadata": {},
   "outputs": [
    {
     "name": "stdout",
     "output_type": "stream",
     "text": [
      "[1 2 3]\n",
      "[4 5 6]\n"
     ]
    }
   ],
   "source": [
    "arr7 = np.array([1, 2, 3])\n",
    "arr8 = np.array([4,5,6])\n",
    "print(arr7)\n",
    "print(arr8)"
   ]
  },
  {
   "cell_type": "code",
   "execution_count": 50,
   "id": "c2eef51c",
   "metadata": {},
   "outputs": [
    {
     "data": {
      "text/plain": [
       "array([1, 2, 3, 4, 5, 6])"
      ]
     },
     "execution_count": 50,
     "metadata": {},
     "output_type": "execute_result"
    }
   ],
   "source": [
    "np.concatenate([arr7, arr8])"
   ]
  },
  {
   "cell_type": "code",
   "execution_count": 51,
   "id": "4adc34ca",
   "metadata": {},
   "outputs": [
    {
     "data": {
      "text/plain": [
       "array([[ 7,  8],\n",
       "       [ 9, 10]])"
      ]
     },
     "execution_count": 51,
     "metadata": {},
     "output_type": "execute_result"
    }
   ],
   "source": [
    "arr9 = np.array([[7, 8], [9, 10]])\n",
    "arr9"
   ]
  },
  {
   "cell_type": "code",
   "execution_count": 52,
   "id": "ab7004e3",
   "metadata": {},
   "outputs": [
    {
     "data": {
      "text/plain": [
       "array([[11, 12],\n",
       "       [13, 14]])"
      ]
     },
     "execution_count": 52,
     "metadata": {},
     "output_type": "execute_result"
    }
   ],
   "source": [
    "arr10 = np.array([[11, 12], [13, 14]])\n",
    "arr10"
   ]
  },
  {
   "cell_type": "code",
   "execution_count": 53,
   "id": "ad1931c8",
   "metadata": {},
   "outputs": [
    {
     "data": {
      "text/plain": [
       "array([[ 7,  8],\n",
       "       [ 9, 10],\n",
       "       [11, 12],\n",
       "       [13, 14]])"
      ]
     },
     "execution_count": 53,
     "metadata": {},
     "output_type": "execute_result"
    }
   ],
   "source": [
    "np.concatenate([arr9, arr10])"
   ]
  },
  {
   "cell_type": "code",
   "execution_count": 54,
   "id": "6fe12f6c",
   "metadata": {},
   "outputs": [
    {
     "data": {
      "text/plain": [
       "array([[ 7,  8, 11, 12],\n",
       "       [ 9, 10, 13, 14]])"
      ]
     },
     "execution_count": 54,
     "metadata": {},
     "output_type": "execute_result"
    }
   ],
   "source": [
    "np.concatenate([arr9, arr10], axis = 1)"
   ]
  },
  {
   "cell_type": "markdown",
   "id": "2910fad3",
   "metadata": {},
   "source": [
    "### Splitting the arrays"
   ]
  },
  {
   "cell_type": "code",
   "execution_count": 59,
   "id": "710c2fe0",
   "metadata": {},
   "outputs": [
    {
     "data": {
      "text/plain": [
       "array([10, 20, 30, 40, 50, 60, 70, 80])"
      ]
     },
     "execution_count": 59,
     "metadata": {},
     "output_type": "execute_result"
    }
   ],
   "source": [
    "arr11 = np.array([10, 20, 30, 40, 50, 60, 70, 80])\n",
    "arr11"
   ]
  },
  {
   "cell_type": "code",
   "execution_count": 56,
   "id": "dd057c91",
   "metadata": {},
   "outputs": [
    {
     "data": {
      "text/plain": [
       "[array([10, 20, 30]), array([40, 50, 60]), array([70, 80, 90])]"
      ]
     },
     "execution_count": 56,
     "metadata": {},
     "output_type": "execute_result"
    }
   ],
   "source": [
    "np.split(arr11, 3)"
   ]
  },
  {
   "cell_type": "code",
   "execution_count": 60,
   "id": "8a3dc801",
   "metadata": {},
   "outputs": [
    {
     "data": {
      "text/plain": [
       "[array([10, 20, 30, 40]), array([50, 60, 70, 80])]"
      ]
     },
     "execution_count": 60,
     "metadata": {},
     "output_type": "execute_result"
    }
   ],
   "source": [
    "np.split(arr11, 2)"
   ]
  },
  {
   "cell_type": "code",
   "execution_count": 61,
   "id": "ca6e9c65",
   "metadata": {},
   "outputs": [
    {
     "data": {
      "text/plain": [
       "[array([10, 20]), array([30, 40]), array([50, 60]), array([70, 80])]"
      ]
     },
     "execution_count": 61,
     "metadata": {},
     "output_type": "execute_result"
    }
   ],
   "source": [
    "np.split(arr11, 4)"
   ]
  },
  {
   "cell_type": "markdown",
   "id": "938764b0",
   "metadata": {},
   "source": [
    "### Concatenating using hstack and vstack"
   ]
  },
  {
   "cell_type": "code",
   "execution_count": 62,
   "id": "736920e8",
   "metadata": {},
   "outputs": [
    {
     "data": {
      "text/plain": [
       "array([[ 7,  8],\n",
       "       [ 9, 10]])"
      ]
     },
     "execution_count": 62,
     "metadata": {},
     "output_type": "execute_result"
    }
   ],
   "source": [
    "arr9"
   ]
  },
  {
   "cell_type": "code",
   "execution_count": 63,
   "id": "26cef0e6",
   "metadata": {},
   "outputs": [
    {
     "data": {
      "text/plain": [
       "array([[11, 12],\n",
       "       [13, 14]])"
      ]
     },
     "execution_count": 63,
     "metadata": {},
     "output_type": "execute_result"
    }
   ],
   "source": [
    "arr10"
   ]
  },
  {
   "cell_type": "code",
   "execution_count": 64,
   "id": "e2dadb48",
   "metadata": {},
   "outputs": [
    {
     "data": {
      "text/plain": [
       "array([[ 7,  8],\n",
       "       [ 9, 10],\n",
       "       [11, 12],\n",
       "       [13, 14]])"
      ]
     },
     "execution_count": 64,
     "metadata": {},
     "output_type": "execute_result"
    }
   ],
   "source": [
    "np.concatenate([arr9, arr10], axis = 0)"
   ]
  },
  {
   "cell_type": "code",
   "execution_count": 66,
   "id": "ee614ba6",
   "metadata": {},
   "outputs": [
    {
     "data": {
      "text/plain": [
       "array([[ 7,  8],\n",
       "       [ 9, 10],\n",
       "       [11, 12],\n",
       "       [13, 14]])"
      ]
     },
     "execution_count": 66,
     "metadata": {},
     "output_type": "execute_result"
    }
   ],
   "source": [
    "np.vstack([arr9, arr10])"
   ]
  },
  {
   "cell_type": "code",
   "execution_count": 67,
   "id": "35d0f893",
   "metadata": {},
   "outputs": [
    {
     "data": {
      "text/plain": [
       "array([[ 7,  8, 11, 12],\n",
       "       [ 9, 10, 13, 14]])"
      ]
     },
     "execution_count": 67,
     "metadata": {},
     "output_type": "execute_result"
    }
   ],
   "source": [
    "np.concatenate([arr9, arr10], axis = 1)"
   ]
  },
  {
   "cell_type": "code",
   "execution_count": 68,
   "id": "bd75083c",
   "metadata": {},
   "outputs": [
    {
     "data": {
      "text/plain": [
       "array([[ 7,  8, 11, 12],\n",
       "       [ 9, 10, 13, 14]])"
      ]
     },
     "execution_count": 68,
     "metadata": {},
     "output_type": "execute_result"
    }
   ],
   "source": [
    "np.hstack([arr9, arr10])"
   ]
  },
  {
   "cell_type": "markdown",
   "id": "4d9670fd",
   "metadata": {},
   "source": [
    "### Assignment 1 : Can you try vsplit() and hsplit()\n",
    "### Assignment 2 : Difference between reshape() and resize() \n",
    "### Assignment 3 : Difference between flatten() and ravel()\n"
   ]
  },
  {
   "cell_type": "markdown",
   "id": "ea5ac57e",
   "metadata": {},
   "source": [
    "### Indexing and Slicing a 2 D array"
   ]
  },
  {
   "cell_type": "code",
   "execution_count": 70,
   "id": "32b3ccf4",
   "metadata": {},
   "outputs": [
    {
     "data": {
      "text/plain": [
       "array([[10, 11, 12],\n",
       "       [13, 14, 15],\n",
       "       [16, 17, 18],\n",
       "       [19, 20, 21]])"
      ]
     },
     "execution_count": 70,
     "metadata": {},
     "output_type": "execute_result"
    }
   ],
   "source": [
    "arr = np.arange(10, 22).reshape(4, 3)\n",
    "arr"
   ]
  },
  {
   "cell_type": "code",
   "execution_count": 73,
   "id": "02d1be1c",
   "metadata": {},
   "outputs": [
    {
     "data": {
      "text/plain": [
       "14"
      ]
     },
     "execution_count": 73,
     "metadata": {},
     "output_type": "execute_result"
    }
   ],
   "source": [
    "arr[1][1]"
   ]
  },
  {
   "cell_type": "code",
   "execution_count": 74,
   "id": "bc800884",
   "metadata": {},
   "outputs": [
    {
     "data": {
      "text/plain": [
       "14"
      ]
     },
     "execution_count": 74,
     "metadata": {},
     "output_type": "execute_result"
    }
   ],
   "source": [
    "arr[1, 1]"
   ]
  },
  {
   "cell_type": "code",
   "execution_count": 75,
   "id": "d580d06b",
   "metadata": {},
   "outputs": [
    {
     "data": {
      "text/plain": [
       "18"
      ]
     },
     "execution_count": 75,
     "metadata": {},
     "output_type": "execute_result"
    }
   ],
   "source": [
    "arr[2, 2]"
   ]
  },
  {
   "cell_type": "code",
   "execution_count": 76,
   "id": "f1fbd58d",
   "metadata": {},
   "outputs": [
    {
     "data": {
      "text/plain": [
       "array([[14, 15],\n",
       "       [17, 18]])"
      ]
     },
     "execution_count": 76,
     "metadata": {},
     "output_type": "execute_result"
    }
   ],
   "source": [
    "### arr[ 1 : 2+1 , 1 : 2 + 1 ]\n",
    "\n",
    "arr[1:3, 1:3]"
   ]
  },
  {
   "cell_type": "code",
   "execution_count": 77,
   "id": "bb549621",
   "metadata": {},
   "outputs": [
    {
     "data": {
      "text/plain": [
       "array([[17, 18],\n",
       "       [20, 21]])"
      ]
     },
     "execution_count": 77,
     "metadata": {},
     "output_type": "execute_result"
    }
   ],
   "source": [
    "arr[2:4, 1:3]"
   ]
  },
  {
   "cell_type": "code",
   "execution_count": 78,
   "id": "1f70d6ba",
   "metadata": {},
   "outputs": [
    {
     "data": {
      "text/plain": [
       "array([[16, 17, 18],\n",
       "       [19, 20, 21]])"
      ]
     },
     "execution_count": 78,
     "metadata": {},
     "output_type": "execute_result"
    }
   ],
   "source": [
    "arr[2:4, 0:3]"
   ]
  },
  {
   "cell_type": "code",
   "execution_count": 79,
   "id": "daabee9c",
   "metadata": {},
   "outputs": [
    {
     "data": {
      "text/plain": [
       "array([[16, 17, 18],\n",
       "       [19, 20, 21]])"
      ]
     },
     "execution_count": 79,
     "metadata": {},
     "output_type": "execute_result"
    }
   ],
   "source": [
    "arr[2:4, :]"
   ]
  },
  {
   "cell_type": "code",
   "execution_count": 80,
   "id": "55f92220",
   "metadata": {},
   "outputs": [
    {
     "data": {
      "text/plain": [
       "array([[11, 12],\n",
       "       [14, 15],\n",
       "       [17, 18],\n",
       "       [20, 21]])"
      ]
     },
     "execution_count": 80,
     "metadata": {},
     "output_type": "execute_result"
    }
   ],
   "source": [
    "arr[0:4, 1:3]"
   ]
  },
  {
   "cell_type": "code",
   "execution_count": 81,
   "id": "cc1db37f",
   "metadata": {},
   "outputs": [
    {
     "data": {
      "text/plain": [
       "array([[11, 12],\n",
       "       [14, 15],\n",
       "       [17, 18],\n",
       "       [20, 21]])"
      ]
     },
     "execution_count": 81,
     "metadata": {},
     "output_type": "execute_result"
    }
   ],
   "source": [
    "arr[:, 1:]"
   ]
  },
  {
   "cell_type": "code",
   "execution_count": null,
   "id": "292ff5b1",
   "metadata": {},
   "outputs": [],
   "source": []
  }
 ],
 "metadata": {
  "kernelspec": {
   "display_name": "Python 3 (ipykernel)",
   "language": "python",
   "name": "python3"
  },
  "language_info": {
   "codemirror_mode": {
    "name": "ipython",
    "version": 3
   },
   "file_extension": ".py",
   "mimetype": "text/x-python",
   "name": "python",
   "nbconvert_exporter": "python",
   "pygments_lexer": "ipython3",
   "version": "3.9.16"
  }
 },
 "nbformat": 4,
 "nbformat_minor": 5
}

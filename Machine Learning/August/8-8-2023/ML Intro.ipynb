{
 "cells": [
  {
   "cell_type": "markdown",
   "id": "ff72c5e4",
   "metadata": {},
   "source": [
    "## Once you have data with you,\n",
    "1. Identify the target variable or the dependent variable in the data\n",
    "2. Check the data type of the dependent variable Based on the data type of target you can decide to apply Regression or Classification"
   ]
  },
  {
   "cell_type": "markdown",
   "id": "d0339c9b",
   "metadata": {},
   "source": [
    "## Applications of ML\n",
    "\n",
    "1. Ecommerce Industry - Amazon, Flipkart, Walmart, Myntra\n",
    "2. Travel Industry(Trips) - Agoda, goibibo, make my trip, booking\n",
    "3. Entertainment- Youtube, Netflix, Amazon Prime, Reels\n",
    "4. Sports Industry - Win Prediction, Cricket, Football, hockey, etc\n",
    "5. Retail - DMart, Vishal Mart, Big Bazar, Reliance Fresh, etc\n",
    "6. Education - Score Prediction, edyoda etc\n",
    "7. Web Analytics - \n",
    "8. Personal - Personal Finance, Personal Fitness, etc\n",
    "9. Business - Sales, Marketing, Project Management, HR, etc.\n",
    "10. Stock Market - Not possible to apply ML. Can apply only to certain extent\n",
    "11. Politics\n",
    "12. Mechanical\n",
    "13. Civil\n",
    "14. Automobile - \n",
    "15. Aerospace\n",
    "16. Architecture\n",
    "17. Ceramics\n",
    "18. Semicondutor\n",
    "19. Commerce\n",
    "20. CA\n",
    "21. Accounts\n",
    "22. Finance\n",
    "23. Health care Industry - Disease prediction, etc\n",
    "24. Fraud Detection"
   ]
  },
  {
   "cell_type": "markdown",
   "id": "94f09415",
   "metadata": {},
   "source": [
    "## Machine Learning Process"
   ]
  },
  {
   "cell_type": "markdown",
   "id": "6274237d",
   "metadata": {},
   "source": [
    "Step 1 : Import all the necessary libraries  \n",
    "Step 2 : Loading the data, Framing Problem Statement, Identifying the dependent variable and the data type of the dependent variable   \n",
    "Step 3 : Data Cleaning, Data Wrangling and Data Preprocessing   \n",
    "Step 4 : Seperate Independent and Dependent variable  \n",
    "Step 5 : Split the data into train and test set   \n",
    "Step 6 : Apply ML Algorithm on train set   \n",
    "Step 7 : Perform predictions on test set   \n",
    "Step 8 : Evaluation   "
   ]
  },
  {
   "cell_type": "markdown",
   "id": "a93245fe",
   "metadata": {},
   "source": [
    "## Note : Any ML project will go through these 8 steps or more than that can be 9, can 15, can be 30 but these above are unavoidable"
   ]
  },
  {
   "cell_type": "code",
   "execution_count": null,
   "id": "f4d3e27e",
   "metadata": {},
   "outputs": [],
   "source": []
  },
  {
   "cell_type": "code",
   "execution_count": null,
   "id": "696df67e",
   "metadata": {},
   "outputs": [],
   "source": []
  }
 ],
 "metadata": {
  "kernelspec": {
   "display_name": "Python 3 (ipykernel)",
   "language": "python",
   "name": "python3"
  },
  "language_info": {
   "codemirror_mode": {
    "name": "ipython",
    "version": 3
   },
   "file_extension": ".py",
   "mimetype": "text/x-python",
   "name": "python",
   "nbconvert_exporter": "python",
   "pygments_lexer": "ipython3",
   "version": "3.9.16"
  }
 },
 "nbformat": 4,
 "nbformat_minor": 5
}

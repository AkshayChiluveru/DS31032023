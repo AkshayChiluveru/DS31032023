{
 "cells": [
  {
   "cell_type": "markdown",
   "id": "36eaa6fa",
   "metadata": {},
   "source": [
    "### Notes :\n",
    "\n",
    "- The idea of Linear Regression is to find the best fit line\n",
    "Q. How to find the best fit line?\n",
    "- The best fit line is the one where the error is minimum.\n",
    "* As per mathematics, minimizing something or maximizing something we call it as optimization problem.\n",
    "* In Linear Regression Algorithm we are minimizing error which also optimizing the error.\n",
    "\n",
    "- Minimization of error is done by Linear Regression with the help Gradient Descent Algorithm."
   ]
  },
  {
   "cell_type": "code",
   "execution_count": null,
   "id": "63d2e287",
   "metadata": {},
   "outputs": [],
   "source": []
  }
 ],
 "metadata": {
  "kernelspec": {
   "display_name": "Python 3 (ipykernel)",
   "language": "python",
   "name": "python3"
  },
  "language_info": {
   "codemirror_mode": {
    "name": "ipython",
    "version": 3
   },
   "file_extension": ".py",
   "mimetype": "text/x-python",
   "name": "python",
   "nbconvert_exporter": "python",
   "pygments_lexer": "ipython3",
   "version": "3.9.16"
  }
 },
 "nbformat": 4,
 "nbformat_minor": 5
}
